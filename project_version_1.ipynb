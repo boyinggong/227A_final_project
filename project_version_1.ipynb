{
 "cells": [
  {
   "cell_type": "code",
   "execution_count": 5,
   "metadata": {
    "collapsed": true
   },
   "outputs": [],
   "source": [
    "import numpy as np\n",
    "from cvxpy import *\n",
    "import matplotlib.pyplot as plt\n",
    "plt.style.use('ggplot')\n",
    "%matplotlib inline"
   ]
  },
  {
   "cell_type": "code",
   "execution_count": 6,
   "metadata": {
    "collapsed": false
   },
   "outputs": [],
   "source": [
    "# load data.\n",
    "beta = np.loadtxt(\"projectdata.txt\")"
   ]
  },
  {
   "cell_type": "markdown",
   "metadata": {},
   "source": [
    "# 1 Uncertainty Model"
   ]
  },
  {
   "cell_type": "markdown",
   "metadata": {},
   "source": [
    "## Cross-validation"
   ]
  },
  {
   "cell_type": "code",
   "execution_count": 7,
   "metadata": {
    "collapsed": false
   },
   "outputs": [],
   "source": [
    "def uncertainty_model_cv(beta, p):\n",
    "    n = len(beta)\n",
    "    # create the H matrix, split the traning and validation set\n",
    "    H_all = np.zeros(p*n).reshape(n, p)\n",
    "    for i in np.arange(p):\n",
    "        H_all[:,i] = np.concatenate([np.zeros(i+1), beta[:-(i+1)]])\n",
    "    beta_validation = beta[-6:]\n",
    "    H_p = H_all[p:-6, :]\n",
    "    H_validation = H_all[-6:, :]\n",
    "    beta_p = beta[p:-6]\n",
    "    # solve the optimization problem\n",
    "    sigma_hat = Variable(1)\n",
    "    theta_hat = Variable(p)\n",
    "    prob = Problem(Minimize(sigma_hat), \n",
    "                   [norm(beta_p - H_p*theta_hat, \"inf\") <= sigma_hat,\n",
    "                    sigma_hat > 0])\n",
    "    prob.solve()\n",
    "    # calculate the error\n",
    "    error = H_validation.dot(np.array(theta_hat.value)).flatten()-\\\n",
    "    beta_validation\n",
    "    # calculate the mean absolute error\n",
    "    mae = sum(np.abs(error))/6\n",
    "    n_excess_bound = sum(np.abs(error)-sigma_hat.value > 0)\n",
    "    return sigma_hat.value, theta_hat.value, mae, n_excess_bound"
   ]
  },
  {
   "cell_type": "code",
   "execution_count": 8,
   "metadata": {
    "collapsed": false
   },
   "outputs": [],
   "source": [
    "maes = []\n",
    "n_excess_bounds = []\n",
    "for p in np.arange(1, 31):\n",
    "    theta_hats_cv = []\n",
    "    maes_cv = []\n",
    "    n_excess_bounds_cv = []\n",
    "    for cv in np.arange(10):\n",
    "        if cv == 0:\n",
    "            sigma_hat, theta_hat, mae, n_excess_bound = \\\n",
    "            uncertainty_model_cv(beta,p)\n",
    "        else:\n",
    "            sigma_hat, theta_hat, mae, n_excess_bound = \\\n",
    "            uncertainty_model_cv(beta[:-cv],p)\n",
    "        maes_cv += [mae]\n",
    "        n_excess_bounds_cv += [n_excess_bound]\n",
    "    maes += [np.mean(maes_cv)]\n",
    "    n_excess_bounds += [np.mean(n_excess_bounds_cv)/6]"
   ]
  },
  {
   "cell_type": "code",
   "execution_count": 9,
   "metadata": {
    "collapsed": false
   },
   "outputs": [
    {
     "data": {
      "image/png": "[encoded data removed]",
      "text/plain": [
       "<matplotlib.figure.Figure at 0x108daf4e0>"
      ]
     },
     "metadata": {},
     "output_type": "display_data"
    }
   ],
   "source": [
    "f, axarr = plt.subplots(1, 2, figsize=(10,2.5))\n",
    "axarr[0].scatter(np.arange(1, 31), maes, \n",
    "                 label=\"Mean Absolute Error\", \n",
    "                 color = \"cornflowerblue\")\n",
    "axarr[0].scatter(np.arange(1, 31)[1], maes[1], \n",
    "                 color = \"lightcoral\", \n",
    "                 label=\"Mininum Mean Absolute Error\")\n",
    "axarr[0].legend(loc=\"upper left\", fontsize = 'x-small')\n",
    "axarr[0].set_xlim([0, 31])\n",
    "axarr[0].legend(loc=\"upper left\", fontsize = 'small')\n",
    "axarr[0].set_xlabel('p')\n",
    "axarr[1].scatter(np.arange(1, 31), n_excess_bounds, \n",
    "                 label=\"Out-of-bound Error\", \n",
    "                 color = \"cornflowerblue\")\n",
    "axarr[1].scatter(np.arange(1, 31)[:5], n_excess_bounds[:5], \n",
    "                 color = \"lightcoral\",\n",
    "                 label=\"Minimum Out-of-bound Error\")\n",
    "axarr[1].set_xlim([0, 31])\n",
    "axarr[1].legend(loc=\"upper left\", fontsize = 'small')\n",
    "axarr[1].set_xlabel('p')\n",
    "f.savefig(\"cv.png\")"
   ]
  },
  {
   "cell_type": "markdown",
   "metadata": {},
   "source": [
    "# Optimization"
   ]
  },
  {
   "cell_type": "markdown",
   "metadata": {},
   "source": [
    "We choose p=2 to fit our model."
   ]
  },
  {
   "cell_type": "code",
   "execution_count": 10,
   "metadata": {
    "collapsed": false
   },
   "outputs": [
    {
     "name": "stdout",
     "output_type": "stream",
     "text": [
      "3.24341242878\n",
      "[[ 0.44904669]\n",
      " [ 0.53272938]]\n"
     ]
    }
   ],
   "source": [
    "p=2\n",
    "n = len(beta)\n",
    "# create the H matrix\n",
    "H_p = np.zeros(p*n).reshape(n, p)\n",
    "for i in np.arange(p):\n",
    "    H_p[:,i] = np.concatenate([np.zeros(i+1), beta[:-(i+1)]])\n",
    "beta_validation = beta[-6:]\n",
    "H_p = H_p[p:, :]\n",
    "beta_p = beta[p:]\n",
    "# solve the optimization problem\n",
    "sigma_hat = Variable(1)\n",
    "theta_hat = Variable(p)\n",
    "prob = Problem(Minimize(sigma_hat), \n",
    "               [norm(beta_p - H_p*theta_hat, \"inf\") <= sigma_hat,\n",
    "                sigma_hat > 0])\n",
    "prob.solve()\n",
    "\n",
    "print(sigma_hat.value)\n",
    "print(theta_hat.value)"
   ]
  },
  {
   "cell_type": "markdown",
   "metadata": {},
   "source": [
    "# Uncertainty Model"
   ]
  },
  {
   "cell_type": "code",
   "execution_count": 11,
   "metadata": {
    "collapsed": false
   },
   "outputs": [],
   "source": [
    "sigma = sigma_hat.value\n",
    "theta_1 = float(theta_hat.value[0])\n",
    "theta_2 = float(theta_hat.value[1])"
   ]
  },
  {
   "cell_type": "code",
   "execution_count": 12,
   "metadata": {
    "collapsed": true
   },
   "outputs": [],
   "source": [
    "beta_t_1 = beta[-2]\n",
    "beta_t = beta[-1]"
   ]
  },
  {
   "cell_type": "code",
   "execution_count": 13,
   "metadata": {
    "collapsed": false
   },
   "outputs": [],
   "source": [
    "beta_t1 = np.array([theta_1, theta_2, sigma])\n",
    "beta_t2 = theta_1*np.concatenate([beta_t1, [0]]) + \\\n",
    "    theta_2*np.array([1, 0, 0, 0]) + \\\n",
    "    sigma*np.array([0, 0, 0, 1])\n",
    "beta_t3 = theta_1*np.concatenate([beta_t2, [0]]) + \\\n",
    "    theta_2*np.concatenate([beta_t1, [0, 0]]) + \\\n",
    "    sigma*np.array([0, 0, 0, 0, 1])\n",
    "beta_t4 = theta_1*np.concatenate([beta_t3, [0]]) + \\\n",
    "    theta_2*np.concatenate([beta_t2, [0, 0]]) + \\\n",
    "    sigma*np.array([0, 0, 0, 0, 0, 1])\n",
    "beta_t5 = theta_1*np.concatenate([beta_t4, [0]]) + \\\n",
    "    theta_2*np.concatenate([beta_t3, [0, 0]]) + \\\n",
    "    sigma*np.array([0, 0, 0, 0, 0, 0, 1])\n",
    "beta_t6 = theta_1*np.concatenate([beta_t5, [0]]) + \\\n",
    "    theta_2*np.concatenate([beta_t4, [0, 0]]) + \\\n",
    "    sigma*np.array([0, 0, 0, 0, 0, 0, 0, 1])"
   ]
  },
  {
   "cell_type": "code",
   "execution_count": 14,
   "metadata": {
    "collapsed": false
   },
   "outputs": [],
   "source": [
    "b_hat = np.vstack([beta_t1[:2], beta_t2[:2], beta_t3[:2], \n",
    "                   beta_t4[:2], beta_t5[:2], beta_t6[:2]]).dot(\n",
    "    np.array([beta_t, beta_t_1]))\n",
    "B = np.vstack([np.concatenate([beta_t1[2:], np.zeros(5)]),\n",
    "              np.concatenate([beta_t2[2:], np.zeros(4)]),\n",
    "              np.concatenate([beta_t3[2:], np.zeros(3)]),\n",
    "              np.concatenate([beta_t4[2:], np.zeros(2)]),\n",
    "              np.concatenate([beta_t5[2:], np.zeros(1)]),\n",
    "              beta_t6[2:]])"
   ]
  },
  {
   "cell_type": "code",
   "execution_count": 15,
   "metadata": {
    "collapsed": false
   },
   "outputs": [
    {
     "data": {
      "text/plain": [
       "array([ 2.53868639,  1.93268543,  2.22029883,  2.02661616,  2.09286371,\n",
       "        2.0194315 ])"
      ]
     },
     "execution_count": 15,
     "metadata": {},
     "output_type": "execute_result"
    }
   ],
   "source": [
    "b_hat"
   ]
  },
  {
   "cell_type": "code",
   "execution_count": 16,
   "metadata": {
    "collapsed": false
   },
   "outputs": [
    {
     "data": {
      "text/plain": [
       "array([[ 3.24341243,  0.        ,  0.        ,  0.        ,  0.        ,\n",
       "         0.        ],\n",
       "       [ 1.45644363,  3.24341243,  0.        ,  0.        ,  0.        ,\n",
       "         0.        ],\n",
       "       [ 2.38187229,  1.45644363,  3.24341243,  0.        ,  0.        ,\n",
       "         0.        ],\n",
       "       [ 1.84546219,  2.38187229,  1.45644363,  3.24341243,  0.        ,\n",
       "         0.        ],\n",
       "       [ 2.09759205,  1.84546219,  2.38187229,  1.45644363,  3.24341243,\n",
       "         0.        ],\n",
       "       [ 1.9250487 ,  2.09759205,  1.84546219,  2.38187229,  1.45644363,\n",
       "         3.24341243]])"
      ]
     },
     "execution_count": 16,
     "metadata": {},
     "output_type": "execute_result"
    }
   ],
   "source": [
    "B"
   ]
  },
  {
   "cell_type": "markdown",
   "metadata": {},
   "source": [
    "# 2 Decision Making"
   ]
  },
  {
   "cell_type": "markdown",
   "metadata": {
    "collapsed": true
   },
   "source": [
    "## Naive Strategy"
   ]
  },
  {
   "cell_type": "code",
   "execution_count": 18,
   "metadata": {
    "collapsed": true
   },
   "outputs": [],
   "source": [
    "A = np.array([[  -1.,     0,     0,     0,     0,  0,    1.,     0,     0,    1.,     0,     0,     0,     0],\n",
    "              [1.003,    -1,     0,     0,     0,  0,     0,    1.,     0, -1.01,    1.,     0,     0,     0],\n",
    "              [    0, 1.003,    -1,     0,     0,  0,     0,     0,    1.,     0, -1.01,    1.,     0,     0],\n",
    "              [    0,     0, 1.003,    -1,     0,  0, -1.02,     0,     0,     0,     0, -1.01,    1.,     0],\n",
    "              [    0,     0,     0, 1.003,    -1,  0,     0, -1.02,     0,     0,     0,     0, -1.01,    1.],\n",
    "              [    0,     0,     0,     0, 1.003, -1,     0,     0, -1.02,     0,     0,     0,     0, -1.01]])"
   ]
  },
  {
   "cell_type": "code",
   "execution_count": 14,
   "metadata": {
    "collapsed": false
   },
   "outputs": [],
   "source": [
    "def naive_strategy(C_initial):\n",
    "    C_initial_array = np.array([C_initial, 0, 0, 0, 0, 0]).reshape(6, 1)\n",
    "    x_cash = Variable(6, 1)\n",
    "    x_cp = Variable(3, 1)\n",
    "    x_cre = Variable(5, 1)\n",
    "    prob = Problem(Maximize(x_cash[5]), \n",
    "               [A*vstack(x_cash, x_cp, x_cre) + C_initial_array >= b_hat,\n",
    "                x_cre <= 1, x_cre >=0, x_cp >= 0, x_cash >= 0])\n",
    "    prob.solve()\n",
    "    return np.concatenate([np.array(x_cash.value).flatten(), \n",
    "                           np.array(x_cp.value).flatten(), \n",
    "                           np.array(x_cre.value).flatten()])"
   ]
  },
  {
   "cell_type": "code",
   "execution_count": 15,
   "metadata": {
    "collapsed": false
   },
   "outputs": [],
   "source": [
    "results = []\n",
    "initials = np.concatenate([5*np.arange(3, 14), [70.3]])\n",
    "for i in initials:\n",
    "    results += [naive_strategy(i)]\n",
    "results = np.array(results)"
   ]
  },
  {
   "cell_type": "code",
   "execution_count": 16,
   "metadata": {
    "collapsed": false
   },
   "outputs": [
    {
     "data": {
      "image/png": "[encoded data removed]",
      "text/plain": [
       "<matplotlib.figure.Figure at 0x108d3e940>"
      ]
     },
     "metadata": {},
     "output_type": "display_data"
    }
   ],
   "source": [
    "f, axarr = plt.subplots(1, 3, figsize=(12,3.5), sharey=True)\n",
    "\n",
    "for i in range(6):\n",
    "    axarr[0].plot(initials, results[:, i], label=\"Xcash(\"+str(i+1)+\")\")\n",
    "axarr[0].set_ylabel(\"Optimal Xcash (in millions)\")\n",
    "axarr[0].set_xlabel(\"Initial Cash (in millions)\")\n",
    "axarr[0].legend(loc=\"upper left\", fontsize = 'small')\n",
    "axarr[0].set_ylim(-1, 70)\n",
    "\n",
    "for i in range(6,9):\n",
    "    axarr[1].plot(initials, results[:, i], label=\"Xcp(\"+str(i-5)+\")\")\n",
    "axarr[1].set_ylabel(\"Optimal Xcp (in millions)\")\n",
    "axarr[1].set_xlabel(\"Initial Cash (in millions)\")\n",
    "axarr[1].legend(loc=\"upper left\", fontsize = 'small')\n",
    "\n",
    "\n",
    "for i in range(9,14):\n",
    "    axarr[2].plot(initials, results[:, i], label=\"Xcre(\"+str(i-8)+\")\")\n",
    "axarr[2].set_ylabel(\"Optimal Xcp (in millions)\")\n",
    "axarr[2].set_xlabel(\"Initial Cash (in millions)\")\n",
    "axarr[2].legend(loc=\"upper left\", fontsize = 'small')\n",
    "\n",
    "f.savefig(\"naive.png\")"
   ]
  },
  {
   "cell_type": "code",
   "execution_count": 17,
   "metadata": {
    "collapsed": false
   },
   "outputs": [
    {
     "data": {
      "text/plain": [
       "array([  1.02003136e+01,   8.29822913e+00,   6.10282498e+00,\n",
       "         4.09451729e+00,   2.01393713e+00,   5.47434858e-04,\n",
       "         2.55473286e-09,   2.35630540e-09,   2.06510531e-09,\n",
       "         3.13112467e-09,   3.47454313e-09,   3.34967904e-09,\n",
       "         3.69410390e-09,   3.76604109e-09])"
      ]
     },
     "execution_count": 17,
     "metadata": {},
     "output_type": "execute_result"
    }
   ],
   "source": [
    "naive_strategy(12.739)"
   ]
  },
  {
   "cell_type": "code",
   "execution_count": 18,
   "metadata": {
    "collapsed": false
   },
   "outputs": [
    {
     "data": {
      "text/plain": [
       "array([None, None, None], dtype=object)"
      ]
     },
     "execution_count": 18,
     "metadata": {},
     "output_type": "execute_result"
    }
   ],
   "source": [
    "# if we let the initial cash drop below 12.739 million, \n",
    "# the problem will become infeasible\n",
    "naive_strategy(12.738)"
   ]
  },
  {
   "cell_type": "code",
   "execution_count": 19,
   "metadata": {
    "collapsed": false
   },
   "outputs": [],
   "source": [
    "x_cash_naive = results[-1][:6]\n",
    "x_cp_naive = results[-1][6:9]\n",
    "x_cre_naive = results[-1][9:]"
   ]
  },
  {
   "cell_type": "code",
   "execution_count": 20,
   "metadata": {
    "collapsed": false
   },
   "outputs": [
    {
     "name": "stdout",
     "output_type": "stream",
     "text": [
      "When initial funds equal to 70.3 million, \n",
      "the excess funds to be invested from January to June is 67.7613, 66.0319, 64.0097, 62.1751, 60.2688, 58.4302. \n",
      "The commercial paper to be issued in the first three month is 0.0, 0.0, 0.0. The balance int he credit line should be 0.0, 0.0, 0.0, 0.0, 0.0. \n"
     ]
    }
   ],
   "source": [
    "print(\"When initial funds equal to 70.3 million, \\n\" + \n",
    "      \"the excess funds to be invested from January to June is \" + \n",
    "      str(results[-1][0].round(4)) + \", \" + \n",
    "      str(results[-1][1].round(4)) + \", \" + \n",
    "      str(results[-1][2].round(4)) + \", \" + \n",
    "      str(results[-1][3].round(4)) + \", \" + \n",
    "      str(results[-1][4].round(4)) + \", \" + \n",
    "      str(results[-1][5].round(4)) + \". \\n\" +\n",
    "      \"The commercial paper to be issued in the first three month is \" +\n",
    "      str(results[-1][6].round(4)) + \", \" + \n",
    "      str(results[-1][7].round(4)) + \", \" + \n",
    "      str(results[-1][8].round(4)) + \". \" + \n",
    "      \"The balance int he credit line should be \" +\n",
    "      str(results[-1][9].round(4)) + \", \" + \n",
    "      str(results[-1][10].round(4)) + \", \" + \n",
    "      str(results[-1][11].round(4)) + \", \" + \n",
    "      str(results[-1][12].round(4)) + \", \" + \n",
    "      str(results[-1][13].round(4)) + \". \")"
   ]
  },
  {
   "cell_type": "markdown",
   "metadata": {},
   "source": [
    "The results shows that if we have enough intial funds, say 70.3 million, the optimal solution for the LP problem will not turn to crefit line nor commercial paper. "
   ]
  },
  {
   "cell_type": "markdown",
   "metadata": {},
   "source": [
    "As we decrease the amount of initial funds, the optimal value of excess funds to be invested $X_{cash}$ will decrease linearly. However, the optimal amount for credit line $X_{cre}$ and commercial paper $X_{cp}$ will stay 0. When the initial funds drops below 12.739 million, the problem will become infeasible."
   ]
  },
  {
   "cell_type": "markdown",
   "metadata": {},
   "source": [
    "## Robust Strategy"
   ]
  },
  {
   "cell_type": "code",
   "execution_count": 21,
   "metadata": {
    "collapsed": true
   },
   "outputs": [],
   "source": [
    "def robust_strategy(C_initial):\n",
    "    C_initial_array = np.array([C_initial, 0, 0, 0, 0, 0]).reshape(6, 1)\n",
    "    x_cash = Variable(6, 1)\n",
    "    x_cp = Variable(3, 1)\n",
    "    x_cre = Variable(5, 1)\n",
    "    prob = Problem(Maximize(x_cash[5]), \n",
    "               [A*vstack(x_cash, x_cp, x_cre) + C_initial_array >= \\\n",
    "                b_hat + abs(B)*np.ones(6).T,\n",
    "                x_cre <= 1, x_cre >=0, x_cp >= 0, x_cash >= 0])\n",
    "    prob.solve()\n",
    "    return np.concatenate([np.array(x_cash.value).flatten(), \n",
    "                           np.array(x_cp.value).flatten(), \n",
    "                           np.array(x_cre.value).flatten()])"
   ]
  },
  {
   "cell_type": "code",
   "execution_count": 23,
   "metadata": {
    "collapsed": false
   },
   "outputs": [
    {
     "data": {
      "image/png": "[encoded data removed]",
      "text/plain": [
       "<matplotlib.figure.Figure at 0x108d3e160>"
      ]
     },
     "metadata": {},
     "output_type": "display_data"
    }
   ],
   "source": [
    "f, axarr = plt.subplots(1, 3, figsize=(12,3.5), sharey=True, sharex=True)\n",
    "\n",
    "for i in range(6):\n",
    "    axarr[0].plot(initials, results[:, i], label=\"Xcash(\"+str(i+1)+\")\")\n",
    "axarr[0].set_ylabel(\"Optimal Xcash (in millions)\")\n",
    "axarr[0].set_xlabel(\"Initial Cash (in millions)\")\n",
    "axarr[0].legend(loc=\"upper left\", fontsize = 'small', framealpha=0.5)\n",
    "axarr[0].set_ylim(-1, 70)\n",
    "axarr[0].set_xlim(59, 71)\n",
    "\n",
    "for i in range(6,9):\n",
    "    axarr[1].plot(initials, results[:, i], label=\"Xcp(\"+str(i-5)+\")\")\n",
    "axarr[1].set_ylabel(\"Optimal Xcp (in millions)\")\n",
    "axarr[1].set_xlabel(\"Initial Cash (in millions)\")\n",
    "axarr[1].legend(loc=\"upper left\", fontsize = 'small')\n",
    "\n",
    "\n",
    "for i in range(9,14):\n",
    "    axarr[2].plot(initials, results[:, i], label=\"Xcre(\"+str(i-8)+\")\")\n",
    "axarr[2].set_ylabel(\"Optimal Xcp (in millions)\")\n",
    "axarr[2].set_xlabel(\"Initial Cash (in millions)\")\n",
    "axarr[2].legend(loc=\"upper left\", fontsize = 'small')\n",
    "\n",
    "f.savefig(\"robust.png\")"
   ]
  },
  {
   "cell_type": "code",
   "execution_count": 24,
   "metadata": {
    "collapsed": false
   },
   "outputs": [
    {
     "data": {
      "text/plain": [
       "array([  5.44232012e+01,   4.79539293e+01,   3.87957639e+01,\n",
       "         2.79583445e+01,   1.49245732e+01,   8.41485092e-05,\n",
       "         2.16230748e-09,   2.16225937e-09,   2.18668800e-09,\n",
       "         3.35017521e-09,   3.30391697e-09,   3.32680858e-09,\n",
       "         3.33767216e-09,   3.35939180e-09])"
      ]
     },
     "execution_count": 24,
     "metadata": {},
     "output_type": "execute_result"
    }
   ],
   "source": [
    "robust_strategy(60.2053)"
   ]
  },
  {
   "cell_type": "code",
   "execution_count": 25,
   "metadata": {
    "collapsed": false
   },
   "outputs": [
    {
     "data": {
      "text/plain": [
       "array([None, None, None], dtype=object)"
      ]
     },
     "execution_count": 25,
     "metadata": {},
     "output_type": "execute_result"
    }
   ],
   "source": [
    "robust_strategy(60.2052)"
   ]
  },
  {
   "cell_type": "code",
   "execution_count": 26,
   "metadata": {
    "collapsed": true
   },
   "outputs": [],
   "source": [
    "x_cash_robust = results[-1][:6]\n",
    "x_cp_robust = results[-1][6:9]\n",
    "x_cre_robust = results[-1][9:]"
   ]
  },
  {
   "cell_type": "code",
   "execution_count": 27,
   "metadata": {
    "collapsed": false
   },
   "outputs": [
    {
     "name": "stdout",
     "output_type": "stream",
     "text": [
      "When initial funds equal to 70.3 million, \n",
      "the excess funds to be invested from January to June is 64.5179, 58.0789, 48.9511, 38.1442, 25.141, 10.2471. \n",
      "The commercial paper to be issued in the first three month is 0.0, 0.0, 0.0. The balance int he credit line should be 0.0, 0.0, 0.0, 0.0, 0.0. \n"
     ]
    }
   ],
   "source": [
    "print(\"When initial funds equal to 70.3 million, \\n\" + \n",
    "      \"the excess funds to be invested from January to June is \" + \n",
    "      str(results[-1][0].round(4)) + \", \" + str(results[-1][1].round(4)) + \", \" + \n",
    "      str(results[-1][2].round(4)) + \", \" + str(results[-1][3].round(4)) + \", \" + \n",
    "      str(results[-1][4].round(4)) + \", \" + str(results[-1][5].round(4)) + \". \\n\" +\n",
    "      \"The commercial paper to be issued in the first three month is \" +\n",
    "      str(results[-1][6].round(4)) + \", \" + str(results[-1][7].round(4)) + \", \" + \n",
    "      str(results[-1][8].round(4)) + \". \" + \n",
    "      \"The balance int he credit line should be \" +\n",
    "      str(results[-1][9].round(4)) + \", \" + str(results[-1][10].round(4)) + \", \" + \n",
    "      str(results[-1][11].round(4)) + \", \" + str(results[-1][12].round(4)) + \", \" + \n",
    "      str(results[-1][13].round(4)) + \". \")"
   ]
  },
  {
   "cell_type": "markdown",
   "metadata": {},
   "source": [
    "The results shows that if we have enough intial funds, say 70.3 million, the robust solution for the LP problem will not turn to crefit line nor commercial paper as well."
   ]
  },
  {
   "cell_type": "markdown",
   "metadata": {},
   "source": [
    "As we decrease the amount of initial funds, the optimal value of excess funds to be invested $X_{cash}$ will decrease linearly. However, the optimal amount for credit line $X_{cre}$ and commercial paper $X_{cp}$ will stay 0. When the initial funds drops below 60.205 million, the problem will become infeasible."
   ]
  },
  {
   "cell_type": "markdown",
   "metadata": {},
   "source": [
    "## Affine Strategy"
   ]
  },
  {
   "cell_type": "code",
   "execution_count": 24,
   "metadata": {
    "collapsed": true
   },
   "outputs": [],
   "source": [
    "def affine_strategy(C_initial, return_all = False):\n",
    "    C_initial_array = np.array([C_initial, 0, 0, 0, 0, 0]).reshape(6, 1)\n",
    "    x_cash = Variable(6, 1)\n",
    "    x_cp = Variable(3, 1)\n",
    "    x_cre = Variable(5, 1)\n",
    "    X_Cash = Variable(6, 6)\n",
    "    X_Cp = Variable(3, 6)\n",
    "    X_Cre = Variable(5, 6)\n",
    "    \n",
    "    constraints = [A*vstack(x_cash,x_cp,x_cre) + C_initial_array >= \\\n",
    "                   b_hat + \\\n",
    "                   sum_entries(abs(B - A*vstack(X_Cash,X_Cp,X_Cre)), axis=1),\n",
    "                   vstack(x_cash,x_cp,x_cre) >= \\\n",
    "                   sum_entries(abs(vstack(X_Cash,X_Cp,X_Cre)), axis=1),\n",
    "                   x_cre + sum_entries(abs(X_Cre), axis=1) <= 1]\n",
    "    \n",
    "    for i in range(6):\n",
    "        constraints += [X_Cash[i, i:] == 0]\n",
    "    for i in range(3):\n",
    "        constraints += [X_Cp[i, i:] == 0]\n",
    "    for i in range(5):\n",
    "        constraints += [X_Cre[i, i:] == 0]\n",
    "\n",
    "    prob = Problem(Maximize(x_cash[5]-sum(abs(X_Cash[-1, :]))), \n",
    "               constraints)\n",
    "    prob.solve()\n",
    "    \n",
    "    if return_all:\n",
    "        return [np.array(x_cash.value).flatten(), \n",
    "                np.array(x_cp.value).flatten(), \n",
    "                np.array(x_cre.value).flatten(),\n",
    "                np.array(X_Cash.value), \n",
    "                np.array(X_Cp.value), \n",
    "                np.array(X_Cre.value)]\n",
    "    \n",
    "    return np.concatenate([np.array(x_cash.value).flatten(), \n",
    "                           np.array(x_cp.value).flatten(), \n",
    "                           np.array(x_cre.value).flatten()])"
   ]
  },
  {
   "cell_type": "code",
   "execution_count": 30,
   "metadata": {
    "collapsed": false
   },
   "outputs": [
    {
     "data": {
      "image/png": "[encoded data removed]",
      "text/plain": [
       "<matplotlib.figure.Figure at 0x1093dfb00>"
      ]
     },
     "metadata": {},
     "output_type": "display_data"
    }
   ],
   "source": [
    "f, axarr = plt.subplots(1, 3, figsize=(12,3.5), sharey=True, sharex=True)\n",
    "\n",
    "for i in range(6):\n",
    "    axarr[0].plot(initials, results[:, i], label=\"Xcash(\"+str(i+1)+\")\")\n",
    "axarr[0].set_ylabel(\"Optimal Xcash (in millions)\")\n",
    "axarr[0].set_xlabel(\"Initial Cash (in millions)\")\n",
    "axarr[0].legend(loc=\"upper left\", fontsize = 'small', framealpha=0.5)\n",
    "axarr[0].set_ylim(-1, 70)\n",
    "axarr[0].set_xlim(59, 71)\n",
    "\n",
    "for i in range(6,9):\n",
    "    axarr[1].plot(initials, results[:, i], label=\"Xcp(\"+str(i-5)+\")\")\n",
    "axarr[1].set_ylabel(\"Optimal Xcp (in millions)\")\n",
    "axarr[1].set_xlabel(\"Initial Cash (in millions)\")\n",
    "axarr[1].legend(loc=\"upper left\", fontsize = 'small')\n",
    "\n",
    "\n",
    "for i in range(9,14):\n",
    "    axarr[2].plot(initials, results[:, i], label=\"Xcre(\"+str(i-8)+\")\")\n",
    "axarr[2].set_ylabel(\"Optimal Xcp (in millions)\")\n",
    "axarr[2].set_xlabel(\"Initial Cash (in millions)\")\n",
    "axarr[2].legend(loc=\"upper left\", fontsize = 'small')\n",
    "\n",
    "f.savefig(\"robust.png\")"
   ]
  },
  {
   "cell_type": "code",
   "execution_count": 29,
   "metadata": {
    "collapsed": false
   },
   "outputs": [
    {
     "data": {
      "text/plain": [
       "array([  5.44232012e+01,   4.55633680e+01,   3.64523564e+01,\n",
       "         2.54649014e+01,   1.45982761e+01,   3.81828688e+00,\n",
       "         7.74488763e-11,   4.13669801e-01,   9.38132895e-01,\n",
       "         1.10063501e-10,   5.65713026e-02,   9.77400520e-02,\n",
       "         1.45125467e-01,   1.75036120e-01])"
      ]
     },
     "execution_count": 29,
     "metadata": {},
     "output_type": "execute_result"
    }
   ],
   "source": [
    "affine_strategy(60.2053)"
   ]
  },
  {
   "cell_type": "code",
   "execution_count": 32,
   "metadata": {
    "collapsed": false
   },
   "outputs": [
    {
     "data": {
      "text/plain": [
       "array([None, None, None], dtype=object)"
      ]
     },
     "execution_count": 32,
     "metadata": {},
     "output_type": "execute_result"
    }
   ],
   "source": [
    "affine_strategy(60.2051)"
   ]
  },
  {
   "cell_type": "code",
   "execution_count": 33,
   "metadata": {
    "collapsed": false
   },
   "outputs": [],
   "source": [
    "# solve the problem where the initial fund equals to \n",
    "x_cash_affine, x_cp_affine, x_cre_affine, X_Cash_affine, X_Cp_affine, X_Cre_affine = affine_strategy(70.3, True)"
   ]
  },
  {
   "cell_type": "code",
   "execution_count": 34,
   "metadata": {
    "collapsed": false
   },
   "outputs": [
    {
     "data": {
      "text/plain": [
       "array([ 64.5179,  55.9582,  46.4463,  35.428 ,  24.4255,  13.6159])"
      ]
     },
     "execution_count": 34,
     "metadata": {},
     "output_type": "execute_result"
    }
   ],
   "source": [
    "x_cash_affine.round(4)"
   ]
  },
  {
   "cell_type": "code",
   "execution_count": 35,
   "metadata": {
    "collapsed": false
   },
   "outputs": [
    {
     "data": {
      "text/plain": [
       "array([ 0.   ,  0.467,  0.929])"
      ]
     },
     "execution_count": 35,
     "metadata": {},
     "output_type": "execute_result"
    }
   ],
   "source": [
    "x_cp_affine.round(4)"
   ]
  },
  {
   "cell_type": "code",
   "execution_count": 36,
   "metadata": {
    "collapsed": false
   },
   "outputs": [
    {
     "data": {
      "text/plain": [
       "array([ 0.    ,  0.061 ,  0.1038,  0.1483,  0.1787])"
      ]
     },
     "execution_count": 36,
     "metadata": {},
     "output_type": "execute_result"
    }
   ],
   "source": [
    "x_cre_affine.round(4)"
   ]
  },
  {
   "cell_type": "code",
   "execution_count": 37,
   "metadata": {
    "collapsed": false
   },
   "outputs": [
    {
     "data": {
      "text/plain": [
       "array([[-0.   ,  0.   ,  0.   ,  0.   ,  0.   ,  0.   ],\n",
       "       [ 2.121, -0.   ,  0.   ,  0.   ,  0.   ,  0.   ],\n",
       "       [ 1.279,  1.226, -0.   ,  0.   ,  0.   , -0.   ],\n",
       "       [ 0.831,  0.818,  1.067, -0.   ,  0.   ,  0.   ],\n",
       "       [ 0.128,  0.121,  0.124,  0.343,  0.   ,  0.   ],\n",
       "       [-0.583, -0.645, -0.71 , -0.797, -0.633, -0.   ]])"
      ]
     },
     "execution_count": 37,
     "metadata": {},
     "output_type": "execute_result"
    }
   ],
   "source": [
    "X_Cash_affine.round(3)"
   ]
  },
  {
   "cell_type": "code",
   "execution_count": 38,
   "metadata": {
    "collapsed": false
   },
   "outputs": [
    {
     "data": {
      "text/plain": [
       "array([[ 0.    , -0.    , -0.    , -0.    , -0.    , -0.    ],\n",
       "       [-0.467 ,  0.    , -0.    , -0.    , -0.    , -0.    ],\n",
       "       [-0.4656, -0.4635, -0.    , -0.    , -0.    , -0.    ]])"
      ]
     },
     "execution_count": 38,
     "metadata": {},
     "output_type": "execute_result"
    }
   ],
   "source": [
    "X_Cp_affine.round(4)"
   ]
  },
  {
   "cell_type": "code",
   "execution_count": 39,
   "metadata": {
    "collapsed": false
   },
   "outputs": [
    {
     "data": {
      "text/plain": [
       "array([[ 0.    , -0.    , -0.    , -0.    , -0.    , -0.    ],\n",
       "       [-0.061 ,  0.    , -0.    , -0.    , -0.    , -0.    ],\n",
       "       [-0.0518, -0.0519, -0.    , -0.    , -0.    ,  0.    ],\n",
       "       [-0.0493, -0.0495, -0.0496, -0.    , -0.    , -0.    ],\n",
       "       [-0.0446, -0.0446, -0.0447, -0.0448, -0.    , -0.    ]])"
      ]
     },
     "execution_count": 39,
     "metadata": {},
     "output_type": "execute_result"
    }
   ],
   "source": [
    "X_Cre_affine.round(4)"
   ]
  },
  {
   "cell_type": "markdown",
   "metadata": {},
   "source": [
    "As we decrease the amount of initial funds, the optimal value of excess funds to be invested $X_{cash}$ will decrease linearly. However, the optimal amount for credit line $X_{cre}$ and commercial paper $X_{cp}$ will stay 0. When the initial funds drops below 60.205 million, the problem will become infeasible."
   ]
  },
  {
   "cell_type": "markdown",
   "metadata": {},
   "source": [
    "# Relative Robust Strategy"
   ]
  },
  {
   "cell_type": "code",
   "execution_count": 40,
   "metadata": {
    "collapsed": true
   },
   "outputs": [],
   "source": [
    "import itertools"
   ]
  },
  {
   "cell_type": "code",
   "execution_count": 41,
   "metadata": {
    "collapsed": false
   },
   "outputs": [],
   "source": [
    "C_initial = 70.3\n",
    "LP_step_1 = []\n",
    "for element in itertools.product([-1, 1], repeat=6):\n",
    "    C_initial_array = np.array([C_initial, 0, 0, 0, 0, 0]).reshape(6, 1)\n",
    "    x_cash = Variable(6, 1)\n",
    "    x_cp = Variable(3, 1)\n",
    "    x_cre = Variable(5, 1)\n",
    "    prob = Problem(Maximize(x_cash[5]), \n",
    "               [A*vstack(x_cash, x_cp, x_cre) + C_initial_array >= \\\n",
    "                b_hat + B.dot(np.asarray(element)),\n",
    "                x_cre <= 1, x_cre >=0, x_cp >= 0, x_cash >= 0])\n",
    "    prob.solve()\n",
    "    LP_step_1 += [x_cash.value[5]]"
   ]
  },
  {
   "cell_type": "code",
   "execution_count": 42,
   "metadata": {
    "collapsed": false
   },
   "outputs": [],
   "source": [
    "max_LP_step_1 = max(LP_step_1)"
   ]
  },
  {
   "cell_type": "code",
   "execution_count": 43,
   "metadata": {
    "collapsed": false
   },
   "outputs": [
    {
     "data": {
      "text/plain": [
       "96.366085174644"
      ]
     },
     "execution_count": 43,
     "metadata": {},
     "output_type": "execute_result"
    }
   ],
   "source": [
    "x_cash = Variable(6, 1)\n",
    "x_cp = Variable(3, 1)\n",
    "x_cre = Variable(5, 1)\n",
    "gamma = Variable(1)\n",
    "prob = Problem(Minimize(gamma), \n",
    "               [A*vstack(x_cash, x_cp, x_cre) + C_initial_array >= \\\n",
    "                b_hat + abs(B)*np.ones(6).T,\n",
    "                x_cre <= 1, x_cre >=0, x_cp >= 0, x_cash >= 0,\n",
    "                gamma >= -1*x_cash[5] + max_LP_step_1])\n",
    "prob.solve()"
   ]
  },
  {
   "cell_type": "code",
   "execution_count": 44,
   "metadata": {
    "collapsed": true
   },
   "outputs": [],
   "source": [
    "x_cash_relative_robust = x_cash.value\n",
    "x_cp_relative_robust = x_cp.value\n",
    "x_cre_relative_robust = x_cre.value"
   ]
  },
  {
   "cell_type": "code",
   "execution_count": 45,
   "metadata": {
    "collapsed": false
   },
   "outputs": [
    {
     "name": "stdout",
     "output_type": "stream",
     "text": [
      "[[ 64.5179]\n",
      " [ 58.0789]\n",
      " [ 48.9511]\n",
      " [ 38.1442]\n",
      " [ 25.141 ]\n",
      " [ 10.2471]]\n",
      "[[ 0.]\n",
      " [ 0.]\n",
      " [ 0.]]\n",
      "[[ 0.]\n",
      " [ 0.]\n",
      " [ 0.]\n",
      " [ 0.]\n",
      " [ 0.]]\n"
     ]
    }
   ],
   "source": [
    "print(x_cash.value.round(4))\n",
    "print(x_cp.value.round(4))\n",
    "print(x_cre.value.round(4))"
   ]
  },
  {
   "cell_type": "markdown",
   "metadata": {},
   "source": [
    "# 3 Evaluation Metrics"
   ]
  },
  {
   "cell_type": "code",
   "execution_count": 46,
   "metadata": {
    "collapsed": false
   },
   "outputs": [],
   "source": [
    "# load data.\n",
    "test_data = np.loadtxt(\"test_data.txt\")\n",
    "more_test_data = np.genfromtxt(\"more_test_data.txt\", delimiter=',')"
   ]
  },
  {
   "cell_type": "code",
   "execution_count": 47,
   "metadata": {
    "collapsed": false
   },
   "outputs": [],
   "source": [
    "def test(test):    \n",
    "    C_initial = 70.3\n",
    "    C_initial_array = np.array([C_initial, 0, 0, 0, 0, 0]).reshape(6, 1)\n",
    "    x_cash = Variable(6, 1)\n",
    "    x_cp = Variable(3, 1)\n",
    "    x_cre = Variable(5, 1)\n",
    "    prob = Problem(Maximize(x_cash[5]), \n",
    "               [A*vstack(x_cash, x_cp, x_cre) + C_initial_array >= test,\n",
    "                x_cre <= 1, x_cre >=0, x_cp >= 0, x_cash >= 0])\n",
    "    prob.solve()\n",
    "    return np.concatenate([np.array(x_cash.value).flatten(), \n",
    "                           np.array(x_cp.value).flatten(), \n",
    "                           np.array(x_cre.value).flatten()])\n",
    "\n",
    "def is_cover(x_cash, x_cp, x_cre, test_data):\n",
    "    C_initial = 70.3\n",
    "    C_initial_array = np.array([C_initial, 0, 0, 0, 0, 0])\n",
    "    return A.dot(np.concatenate([np.asarray(x_cash).flatten(), \n",
    "                                 np.asarray(x_cp).flatten(), \n",
    "                                 np.asarray(x_cre).flatten(), ])) + \\\n",
    "            C_initial_array >= test_data\n",
    "    \n",
    "def calculate_u(b_hat, B, test_data):\n",
    "    return np.linalg.inv(B).dot(test_data - b_hat)\n",
    "\n",
    "def calculate_decision_affine(test_data):\n",
    "    u = calculate_u(b_hat, B, test_data)\n",
    "    x_cash_affine_decision = x_cash_affine + X_Cash_affine.dot(u)\n",
    "    x_cp_affine_decision = x_cp_affine + X_Cp_affine.dot(u)\n",
    "    x_cre_affine_decision = x_cre_affine + X_Cre_affine.dot(u)\n",
    "    return x_cash_affine_decision, x_cp_affine_decision, x_cre_affine_decision"
   ]
  },
  {
   "cell_type": "code",
   "execution_count": 48,
   "metadata": {
    "collapsed": false
   },
   "outputs": [
    {
     "data": {
      "text/plain": [
       "67.145094066411431"
      ]
     },
     "execution_count": 48,
     "metadata": {},
     "output_type": "execute_result"
    }
   ],
   "source": [
    "optimal = test(test_data)[5]\n",
    "optimal"
   ]
  },
  {
   "cell_type": "markdown",
   "metadata": {},
   "source": [
    "## naive strategy"
   ]
  },
  {
   "cell_type": "code",
   "execution_count": 49,
   "metadata": {
    "collapsed": false
   },
   "outputs": [
    {
     "name": "stdout",
     "output_type": "stream",
     "text": [
      "whether the strategy will cover the required liability in the test data:\n",
      "[ True False  True  True  True  True]\n",
      "regret:\n",
      "8.71493557903\n"
     ]
    }
   ],
   "source": [
    "print(\"whether the strategy will cover the required liability in the test data:\")\n",
    "print(is_cover(x_cash_naive, x_cp_naive, x_cre_naive, test_data))\n",
    "print(\"regret:\")\n",
    "regret_naive = optimal - x_cash_naive[5]\n",
    "print(regret_naive)"
   ]
  },
  {
   "cell_type": "markdown",
   "metadata": {},
   "source": [
    "## robust strategy"
   ]
  },
  {
   "cell_type": "code",
   "execution_count": 50,
   "metadata": {
    "collapsed": false
   },
   "outputs": [
    {
     "name": "stdout",
     "output_type": "stream",
     "text": [
      "whether the strategy will cover the required liability in the test data:\n",
      "[ True  True  True  True  True  True]\n",
      "regret:\n",
      "56.8979781687\n"
     ]
    }
   ],
   "source": [
    "print(\"whether the strategy will cover the required liability in the test data:\")\n",
    "print(is_cover(x_cash_robust, x_cp_robust, x_cre_robust, test_data))\n",
    "print(\"regret:\")\n",
    "regret_robust = optimal - x_cash_robust[5]\n",
    "print(regret_robust)"
   ]
  },
  {
   "cell_type": "markdown",
   "metadata": {},
   "source": [
    "## affine strategy"
   ]
  },
  {
   "cell_type": "code",
   "execution_count": 51,
   "metadata": {
    "collapsed": false
   },
   "outputs": [
    {
     "name": "stdout",
     "output_type": "stream",
     "text": [
      "whether the strategy will cover the required liability in the test data:\n",
      "[ True  True  True  True  True  True]\n",
      "regret:\n",
      "52.9698251978\n"
     ]
    }
   ],
   "source": [
    "# calculate the trategy\n",
    "x_cash_affine_decision, x_cp_affine_decision, x_cre_affine_decision = calculate_decision_affine(test_data)\n",
    "print(\"whether the strategy will cover the required liability in the test data:\")\n",
    "print(is_cover(x_cash_affine_decision, x_cp_affine_decision, \n",
    "         x_cre_affine_decision, test_data))\n",
    "print(\"regret:\")\n",
    "regret_affine = optimal - x_cash_affine_decision[5]\n",
    "print(regret_affine)"
   ]
  },
  {
   "cell_type": "markdown",
   "metadata": {},
   "source": [
    "## relative robust strategy"
   ]
  },
  {
   "cell_type": "code",
   "execution_count": 52,
   "metadata": {
    "collapsed": false
   },
   "outputs": [
    {
     "name": "stdout",
     "output_type": "stream",
     "text": [
      "whether the strategy will cover the required liability in the test data:\n",
      "[ True  True  True  True  True  True]\n",
      "regret:\n",
      "[[ 56.89797817]]\n"
     ]
    }
   ],
   "source": [
    "print(\"whether the strategy will cover the required liability in the test data:\")\n",
    "print(is_cover(x_cash_relative_robust, x_cp_relative_robust, \n",
    "         x_cre_relative_robust, test_data))\n",
    "print(\"regret:\")\n",
    "regret_relative_robust = optimal - x_cash_relative_robust[5]\n",
    "print(regret_relative_robust)"
   ]
  },
  {
   "cell_type": "markdown",
   "metadata": {},
   "source": [
    "## more test data"
   ]
  },
  {
   "cell_type": "code",
   "execution_count": 53,
   "metadata": {
    "collapsed": true
   },
   "outputs": [],
   "source": [
    "results = []\n",
    "is_cover_naive = []\n",
    "is_cover_robust = []\n",
    "is_cover_affine = []\n",
    "is_cover_relative_robust = []\n",
    "regret_naive = []\n",
    "regret_robust = []\n",
    "regret_affine = []\n",
    "regret_relative_robust = []\n",
    "for i in more_test_data:\n",
    "    results += [test(i)[5]]\n",
    "    optimal = test(i)[5]\n",
    "    x_cash_affine_decision, x_cp_affine_decision, x_cre_affine_decision = calculate_decision_affine(i)\n",
    "    \n",
    "    is_cover_naive += [np.mean(is_cover(x_cash_naive, x_cp_naive, \n",
    "                                x_cre_naive, i))]\n",
    "    is_cover_robust += [np.mean(is_cover(x_cash_robust, x_cp_robust, x_cre_robust, test_data))]\n",
    "    is_cover_affine += [np.mean(is_cover(x_cash_affine_decision, x_cp_affine_decision, \n",
    "                               x_cre_affine_decision, test_data))]\n",
    "    is_cover_relative_robust += [np.mean(is_cover(x_cash_relative_robust, \n",
    "                                          x_cp_relative_robust, \n",
    "                                          x_cre_relative_robust, i))]\n",
    "    regret_naive += [optimal-x_cash_naive[5]]\n",
    "    regret_robust += [optimal-x_cash_robust[5]]\n",
    "    regret_affine += [optimal-x_cash_affine_decision[5]]\n",
    "    regret_relative_robust += [optimal-x_cash_relative_robust[5][0, 0]]"
   ]
  },
  {
   "cell_type": "code",
   "execution_count": 54,
   "metadata": {
    "collapsed": false
   },
   "outputs": [
    {
     "name": "stdout",
     "output_type": "stream",
     "text": [
      "naive strategy\n",
      "[[  0.83333333   6.        ]\n",
      " [  1.          14.        ]]\n",
      "robust strategy\n",
      "[[  1.  20.]]\n",
      "affine strategy\n",
      "[[  1.  20.]]\n",
      "robust strategy\n",
      "[[  1.  20.]]\n"
     ]
    }
   ],
   "source": [
    "print(\"naive strategy\")\n",
    "unique, counts = np.unique(is_cover_naive, return_counts=True)\n",
    "print(np.asarray((unique, counts)).T)\n",
    "print(\"robust strategy\")\n",
    "unique, counts = np.unique(is_cover_robust, return_counts=True)\n",
    "print(np.asarray((unique, counts)).T)\n",
    "print(\"affine strategy\")\n",
    "unique, counts = np.unique(is_cover_affine, return_counts=True)\n",
    "print(np.asarray((unique, counts)).T)\n",
    "print(\"robust strategy\")\n",
    "unique, counts = np.unique(is_cover_relative_robust, return_counts=True)\n",
    "print(np.asarray((unique, counts)).T)"
   ]
  },
  {
   "cell_type": "markdown",
   "metadata": {},
   "source": [
    "Fromt the above results, XXXXXXXXXX XXXXX XXXXXXXXXXXXXXXXXXXXXXXXXXX XXXXXXXXXXXXXXXXXXXXXXXXXXXXXXXXXXXX XXX XXXXXXXXXXXXXXXXXX XXXXXXXXX XXXXXXXXXXXXXXXXXXXXXXXXX XXXXXX XXXXXX XXXXXXXXXX XXXXXXXXXXXXXXXXXXXXXXXXXXXXXX XXXXX XXXX XXXXXXXXXX XXXX XXXXXXXXXXXX XXXXXXXXXXXXXXXXXXXX XXXXXXXXXXXXXXXXXXXXXXXXXXXXX XXXXXXXXXXXX XXXXXXXXXXX XXXXX XXXX XXXX XXXXXXXXXXXXXXXXXXXXX XXXXXXXXXXXXX XXXXXXXXXXXXXXXXXXXXXXXXX XXXX XXXXXXXXXXXXX XXXXXXXXXXXXX XXXXXXXXXXXX XXXX XXX XXXXXXXXXXXXXXXXX XXXXX XXX XXXXXXXXXX XXXXXXX XXXXXXXXXXXXXXXXXXXXXXXXXXXXX XXXXXXXX XXXXXXX XXXX XXXX XXXXXXXXX XXXX XXXXXX XXXXXXXXXXXXXXXXXXXXXXXXXX XXXXXXXXXXXX XXXXXXXXXXXXXXXXXXXXXXXXXXXX XXXXXXXX XXXXXXXXXX XXXX XXXX XXX XX XXX XX XXXXXXXXXXXXX XXXXXXXXX XXXXXXXXXXXX XXXXXXXXX XXXX XXXXXXXXXXXXXXXXXXXXXXXXX XXXXXXXXXXXX XXX XXX XXX XXXXX XXXXXX XXXXX XXXXXXXXXXX XXXXXXXXXXXXXXXXXXXXXXXX XXXXXXXXXXX XXXXXXXXXXXX XXXXXXXXXXXXXXXXX XXXXXXXXXXXX XXX XXXXXX"
   ]
  },
  {
   "cell_type": "code",
   "execution_count": 55,
   "metadata": {
    "collapsed": false
   },
   "outputs": [
    {
     "data": {
      "image/png": "[encoded data removed]",
      "text/plain": [
       "<matplotlib.figure.Figure at 0x109c79128>"
      ]
     },
     "metadata": {},
     "output_type": "display_data"
    }
   ],
   "source": [
    "plt.figure(figsize=(7,3.5))\n",
    "plt.hist([regret_naive, regret_robust, \n",
    "          regret_affine, regret_relative_robust], \n",
    "         20, histtype='bar', \n",
    "         label=[\"Naive\", \"Robust\", \"Affine\", \"Relative robust\"])\n",
    "# plt.title('Regret histogram of more test data')\n",
    "plt.legend(loc=\"upper left\", fontsize = 'small', framealpha=0.5)\n",
    "plt.ylim(0, 9)\n",
    "plt.savefig(\"regret.png\")"
   ]
  },
  {
   "cell_type": "markdown",
   "metadata": {},
   "source": [
    "# 4 Reproduction of the livebook example"
   ]
  },
  {
   "cell_type": "markdown",
   "metadata": {},
   "source": [
    "## Naive Strategy"
   ]
  },
  {
   "cell_type": "code",
   "execution_count": 56,
   "metadata": {
    "collapsed": false
   },
   "outputs": [
    {
     "data": {
      "text/plain": [
       "92.49694914597907"
      ]
     },
     "execution_count": 56,
     "metadata": {},
     "output_type": "execute_result"
    }
   ],
   "source": [
    "b_hat = np.array([150, 100, -200, 200, -50, -300])\n",
    "x_cash = Variable(6)\n",
    "x_cp = Variable(3)\n",
    "x_cre = Variable(5)\n",
    "prob = Problem(Maximize(x_cash[5]), \n",
    "               [A[:, :6]*x_cash + A[:, 6:9]*x_cp + \\\n",
    "                A[:, 9:]*x_cre >= \\\n",
    "                b_hat,\n",
    "                x_cre <= 100, x_cre >=0, x_cp >= 0, x_cash >= 0])\n",
    "prob.solve()"
   ]
  },
  {
   "cell_type": "code",
   "execution_count": 57,
   "metadata": {
    "collapsed": false
   },
   "outputs": [
    {
     "name": "stdout",
     "output_type": "stream",
     "text": [
      "[[   0.    ]\n",
      " [   0.    ]\n",
      " [ 351.9442]\n",
      " [   0.    ]\n",
      " [   0.    ]\n",
      " [  92.4969]]\n",
      "[[ 150.    ]\n",
      " [  74.2977]\n",
      " [ 177.9035]]\n",
      "[[  0.    ]\n",
      " [ 25.7023]\n",
      " [  0.    ]\n",
      " [  0.    ]\n",
      " [ 25.7836]]\n"
     ]
    }
   ],
   "source": [
    "print(x_cash.value.round(4))\n",
    "print(x_cp.value.round(4))\n",
    "print(x_cre.value.round(4))"
   ]
  },
  {
   "cell_type": "markdown",
   "metadata": {},
   "source": [
    "## Robust Strategy"
   ]
  },
  {
   "cell_type": "code",
   "execution_count": 58,
   "metadata": {
    "collapsed": false
   },
   "outputs": [
    {
     "data": {
      "text/plain": [
       "14.288569470597606"
      ]
     },
     "execution_count": 58,
     "metadata": {},
     "output_type": "execute_result"
    }
   ],
   "source": [
    "# robust problem in the livebook\n",
    "b_hat = np.array([150, 100, -200, 200, -50, -300])\n",
    "B=np.diag(b_hat).dot(np.array([[.06,   0,   0,   0,   0,   0],\n",
    "                            [.02, .06,   0,   0,   0,   0],\n",
    "                            [  0, .02, .06,   0,   0,   0],\n",
    "                            [  0,   0, .02, .06,   0,   0],\n",
    "                            [  0,   0,   0, .02, .06,   0],\n",
    "                            [  0,   0,   0,   0, .02, .06]]))\n",
    "x_cash = Variable(6, 1)\n",
    "x_cp = Variable(3, 1)\n",
    "x_cre = Variable(5, 1)\n",
    "prob = Problem(Maximize(x_cash[5]), \n",
    "               [A*vstack(x_cash,x_cp,x_cre) >= \\\n",
    "                b_hat + abs(B)*np.ones(6).T,\n",
    "                x_cre <= 100, x_cre >=0, x_cp >= 0, x_cash >= 0])\n",
    "prob.solve()"
   ]
  },
  {
   "cell_type": "code",
   "execution_count": 59,
   "metadata": {
    "collapsed": false
   },
   "outputs": [
    {
     "name": "stdout",
     "output_type": "stream",
     "text": [
      "[[   0.    ]\n",
      " [   0.    ]\n",
      " [ 377.0489]\n",
      " [   0.    ]\n",
      " [   0.    ]\n",
      " [  14.2886]]\n",
      "[[ 159.    ]\n",
      " [  71.6477]\n",
      " [ 229.7647]]\n",
      "[[  0.    ]\n",
      " [ 36.3523]\n",
      " [  0.    ]\n",
      " [  0.    ]\n",
      " [ 27.0807]]\n"
     ]
    }
   ],
   "source": [
    "print(x_cash.value.round(4))\n",
    "print(x_cp.value.round(4))\n",
    "print(x_cre.value.round(4))"
   ]
  },
  {
   "cell_type": "markdown",
   "metadata": {},
   "source": [
    "## Affine Strategy"
   ]
  },
  {
   "cell_type": "code",
   "execution_count": 60,
   "metadata": {
    "collapsed": false
   },
   "outputs": [
    {
     "data": {
      "text/plain": [
       "14.288569491253206"
      ]
     },
     "execution_count": 60,
     "metadata": {},
     "output_type": "execute_result"
    }
   ],
   "source": [
    "# linear problem in the livebook\n",
    "b_hat = np.array([150, 100, -200, 200, -50, -300])\n",
    "B=np.diag(b_hat).dot(np.array([[.06,   0,   0,   0,   0,   0],\n",
    "                               [.02, .06,   0,   0,   0,   0],\n",
    "                               [  0, .02, .06,   0,   0,   0],\n",
    "                               [  0,   0, .02, .06,   0,   0],\n",
    "                               [  0,   0,   0, .02, .06,   0],\n",
    "                               [  0,   0,   0,   0, .02, .06]]))\n",
    "x_cash = Variable(6, 1)\n",
    "x_cp = Variable(3, 1)\n",
    "x_cre = Variable(5, 1)\n",
    "X_Cash = Variable(6, 6)\n",
    "X_Cp = Variable(3, 6)\n",
    "X_Cre = Variable(5, 6)\n",
    "\n",
    "constraints = [A*vstack(x_cash,x_cp,x_cre) >= b_hat + \\\n",
    "               sum_entries(abs(B - A*vstack(X_Cash,X_Cp,X_Cre)), \n",
    "                           axis=1),\n",
    "               vstack(x_cash,x_cp,x_cre) >= \\\n",
    "               sum_entries(abs(vstack(X_Cash,X_Cp,X_Cre)), axis=1),\n",
    "                x_cre + sum_entries(abs(X_Cre), axis=1) <= 100]\n",
    "for i in range(6):\n",
    "    constraints += [X_Cash[i, i:] == 0]\n",
    "for i in range(3):\n",
    "    constraints += [X_Cp[i, i:] == 0]\n",
    "for i in range(5):\n",
    "    constraints += [X_Cre[i, i:] == 0]\n",
    "\n",
    "prob = Problem(Maximize(x_cash[5]-sum(abs(X_Cash[-1, :]))), \n",
    "               constraints)\n",
    "prob.solve()"
   ]
  },
  {
   "cell_type": "code",
   "execution_count": 61,
   "metadata": {
    "collapsed": false
   },
   "outputs": [
    {
     "name": "stdout",
     "output_type": "stream",
     "text": [
      "[[   0.    ]\n",
      " [   2.539 ]\n",
      " [ 380.0183]\n",
      " [  11.0139]\n",
      " [   9.2145]\n",
      " [  19.7831]]\n",
      "[[ 159.    ]\n",
      " [  74.2119]\n",
      " [ 220.5392]]\n",
      "[[  0.    ]\n",
      " [ 34.6441]\n",
      " [  4.9162]\n",
      " [ 11.2591]\n",
      " [ 40.6723]]\n"
     ]
    }
   ],
   "source": [
    "print(x_cash.value.round(4))\n",
    "print(x_cp.value.round(4))\n",
    "print(x_cre.value.round(4))"
   ]
  },
  {
   "cell_type": "code",
   "execution_count": 62,
   "metadata": {
    "collapsed": false
   },
   "outputs": [
    {
     "name": "stdout",
     "output_type": "stream",
     "text": [
      "[[ 0.      0.     -0.     -0.     -0.     -0.    ]\n",
      " [-2.539  -0.     -0.      0.     -0.     -0.    ]\n",
      " [-0.5575  2.412   0.      0.     -0.      0.    ]\n",
      " [-2.4966  3.0407 -5.4767 -0.     -0.     -0.    ]\n",
      " [-1.9932  1.8879 -2.9699  2.3635  0.     -0.    ]\n",
      " [-0.3188  0.9143 -1.0454  0.316   2.9001  0.    ]]\n",
      "[[-0.      0.     -0.     -0.      0.      0.    ]\n",
      " [ 1.7868  0.     -0.      0.      0.      0.    ]\n",
      " [ 1.4496 -3.3814 -0.      0.      0.      0.    ]]\n",
      "[[-0.     -0.      0.      0.      0.      0.    ]\n",
      " [-2.6428  0.      0.     -0.      0.      0.    ]\n",
      " [-2.4282  2.488  -0.     -0.      0.     -0.    ]\n",
      " [-4.7544  3.9545 -2.5501  0.      0.      0.    ]\n",
      " [-2.8159  3.6097 -1.0086  1.7194 -0.      0.    ]]\n"
     ]
    }
   ],
   "source": [
    "print(X_Cash.value.round(4))\n",
    "print(X_Cp.value.round(4))\n",
    "print(X_Cre.value.round(4))"
   ]
  },
  {
   "cell_type": "code",
   "execution_count": null,
   "metadata": {
    "collapsed": true
   },
   "outputs": [],
   "source": []
  },
  {
   "cell_type": "code",
   "execution_count": null,
   "metadata": {
    "collapsed": true
   },
   "outputs": [],
   "source": []
  }
 ],
 "metadata": {
  "kernelspec": {
   "display_name": "Python 3",
   "language": "python",
   "name": "python3"
  },
  "language_info": {
   "codemirror_mode": {
    "name": "ipython",
    "version": 3
   },
   "file_extension": ".py",
   "mimetype": "text/x-python",
   "name": "python",
   "nbconvert_exporter": "python",
   "pygments_lexer": "ipython3",
   "version": "3.5.1"
  }
 },
 "nbformat": 4,
 "nbformat_minor": 1
}
