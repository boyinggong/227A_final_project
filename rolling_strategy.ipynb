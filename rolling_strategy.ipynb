{
 "cells": [
  {
   "cell_type": "markdown",
   "metadata": {},
   "source": [
    "* [1 Uncertainty Model](#UncertaintyModel)\n",
    "    * [Cross-validation](#1CrossValidation)\n",
    "    * [AR Parameter Optimization](#1ARParameterOptimization)\n",
    "    * [Uncertainty Model](#1UncertaintyModel)\n",
    "* [2 Decision Making](#DecisionMaking)\n",
    "    * [Naive Strategy](#2NaiveStrategy)\n",
    "    * [Robust Strategy](#2RobustStrategy)\n",
    "    * [Affine Strategy](#2AffineStrategy)\n",
    "* [3 Evaluation Metrics](#EvaluationMetrics)"
   ]
  },
  {
   "cell_type": "code",
   "execution_count": 1,
   "metadata": {
    "collapsed": true
   },
   "outputs": [],
   "source": [
    "import numpy as np\n",
    "from cvxpy import *\n",
    "import matplotlib.pyplot as plt\n",
    "plt.style.use('ggplot')\n",
    "%matplotlib inline"
   ]
  },
  {
   "cell_type": "code",
   "execution_count": 2,
   "metadata": {
    "collapsed": false
   },
   "outputs": [],
   "source": [
    "# load data.\n",
    "beta = np.loadtxt(\"data/projectdata.txt\")\n",
    "# load test data.\n",
    "test_data = np.loadtxt(\"data/test_data.txt\")\n",
    "more_test_data = np.genfromtxt(\"data/more_test_data.txt\", delimiter=',')"
   ]
  },
  {
   "cell_type": "markdown",
   "metadata": {},
   "source": [
    "# 1 Uncertainty Model <a id=\"UncertaintyModel\"></a>"
   ]
  },
  {
   "cell_type": "markdown",
   "metadata": {},
   "source": [
    "## Cross-validation<a id=\"1CrossValidation\"></a>"
   ]
  },
  {
   "cell_type": "code",
   "execution_count": 3,
   "metadata": {
    "collapsed": false
   },
   "outputs": [],
   "source": [
    "def uncertainty_model_cv(beta, p):\n",
    "    n = len(beta)\n",
    "    # create the H matrix, split the traning and validation set\n",
    "    H_all = np.zeros(p*n).reshape(n, p)\n",
    "    for i in np.arange(p):\n",
    "        H_all[:,i] = np.concatenate([np.zeros(i+1), beta[:-(i+1)]])\n",
    "    beta_validation = beta[-6:]\n",
    "    H_p = H_all[p:-6, :]\n",
    "    H_validation = H_all[-6:, :]\n",
    "    beta_p = beta[p:-6]\n",
    "    # solve the optimization problem\n",
    "    sigma_hat = Variable(1)\n",
    "    theta_hat = Variable(p)\n",
    "    prob = Problem(Minimize(sigma_hat), \n",
    "                   [norm(beta_p - H_p*theta_hat, \"inf\") <= sigma_hat,\n",
    "                    sigma_hat > 0])\n",
    "    prob.solve()\n",
    "    # calculate the error\n",
    "    error = H_validation.dot(np.array(theta_hat.value)).flatten()-\\\n",
    "    beta_validation\n",
    "    # calculate the mean absolute error\n",
    "    mae = sum(np.abs(error))/6\n",
    "    n_excess_bound = sum(np.abs(error)-sigma_hat.value > 0)\n",
    "    return sigma_hat.value, theta_hat.value, mae, n_excess_bound"
   ]
  },
  {
   "cell_type": "code",
   "execution_count": 4,
   "metadata": {
    "collapsed": false
   },
   "outputs": [],
   "source": [
    "maes = []\n",
    "n_excess_bounds = []\n",
    "for p in np.arange(1, 31):\n",
    "    theta_hats_cv = []\n",
    "    maes_cv = []\n",
    "    n_excess_bounds_cv = []\n",
    "    for cv in np.arange(10):\n",
    "        if cv == 0:\n",
    "            sigma_hat, theta_hat, mae, n_excess_bound = \\\n",
    "            uncertainty_model_cv(beta,p)\n",
    "        else:\n",
    "            sigma_hat, theta_hat, mae, n_excess_bound = \\\n",
    "            uncertainty_model_cv(beta[:-cv],p)\n",
    "        maes_cv += [mae]\n",
    "        n_excess_bounds_cv += [n_excess_bound]\n",
    "    maes += [np.mean(maes_cv)]\n",
    "    n_excess_bounds += [np.mean(n_excess_bounds_cv)/6]"
   ]
  },
  {
   "cell_type": "code",
   "execution_count": 5,
   "metadata": {
    "collapsed": false
   },
   "outputs": [
    {
     "data": {
      "image/png": "[encoded data removed]",
      "text/plain": [
       "<matplotlib.figure.Figure at 0x108d478d0>"
      ]
     },
     "metadata": {},
     "output_type": "display_data"
    }
   ],
   "source": [
    "f, axarr = plt.subplots(1, 2, figsize=(10,2.5))\n",
    "axarr[0].scatter(np.arange(1, 31), maes, \n",
    "                 label=\"Mean Absolute Error\", \n",
    "                 color = \"cornflowerblue\")\n",
    "axarr[0].scatter(np.arange(1, 31)[1], maes[1], \n",
    "                 color = \"lightcoral\", \n",
    "                 label=\"Mininum Mean Absolute Error\")\n",
    "axarr[0].legend(loc=\"upper left\", fontsize = 'x-small')\n",
    "axarr[0].set_xlim([0, 31])\n",
    "axarr[0].legend(loc=\"upper left\", fontsize = 'small')\n",
    "axarr[0].set_xlabel('p')\n",
    "axarr[1].scatter(np.arange(1, 31), n_excess_bounds, \n",
    "                 label=\"Out-of-bound Error\", \n",
    "                 color = \"cornflowerblue\")\n",
    "axarr[1].scatter(np.arange(1, 31)[:5], n_excess_bounds[:5], \n",
    "                 color = \"lightcoral\",\n",
    "                 label=\"Minimum Out-of-bound Error\")\n",
    "axarr[1].set_xlim([0, 31])\n",
    "axarr[1].legend(loc=\"upper left\", fontsize = 'small')\n",
    "axarr[1].set_xlabel('p')\n",
    "f.savefig(\"report/cv.png\")"
   ]
  },
  {
   "cell_type": "markdown",
   "metadata": {},
   "source": [
    "## AR Parameter Optimization<a id=\"1ARParameterOptimization\"></a>"
   ]
  },
  {
   "cell_type": "markdown",
   "metadata": {},
   "source": [
    "We choose p=2 to fit our model."
   ]
  },
  {
   "cell_type": "code",
   "execution_count": 6,
   "metadata": {
    "collapsed": false
   },
   "outputs": [],
   "source": [
    "def ar_opt(beta, p, return_beta_hat = False):\n",
    "    n = len(beta)\n",
    "    # create the H matrix\n",
    "    H_p = np.zeros(p*n).reshape(n, p)\n",
    "    for i in np.arange(p):\n",
    "        H_p[:,i] = np.concatenate([np.zeros(i+1), beta[:-(i+1)]])\n",
    "    beta_validation = beta[-6:]\n",
    "    H_p = H_p[p:, :]\n",
    "    beta_p = beta[p:]\n",
    "    # solve the optimization problem\n",
    "    sigma_hat = Variable(1)\n",
    "    theta_hat = Variable(p)\n",
    "    prob = Problem(Minimize(sigma_hat), \n",
    "                   [norm(beta_p - H_p*theta_hat, \"inf\") <= sigma_hat,\n",
    "                    sigma_hat > 0])\n",
    "    prob.solve()\n",
    "    if (return_beta_hat):\n",
    "        return [sigma_hat.value, np.asarray(theta_hat.value).flatten(), \n",
    "                np.asarray(H_p*theta_hat.value).flatten()]\n",
    "    return [sigma_hat.value, np.asarray(theta_hat.value).flatten()]"
   ]
  },
  {
   "cell_type": "code",
   "execution_count": 7,
   "metadata": {
    "collapsed": false
   },
   "outputs": [],
   "source": [
    "sigma, theta, beta_hat = ar_opt(beta = beta, p = 2, return_beta_hat = True)"
   ]
  },
  {
   "cell_type": "code",
   "execution_count": 8,
   "metadata": {
    "collapsed": false
   },
   "outputs": [
    {
     "data": {
      "image/png": "[encoded data removed]",
      "text/plain": [
       "<matplotlib.figure.Figure at 0x108fc7240>"
      ]
     },
     "metadata": {},
     "output_type": "display_data"
    }
   ],
   "source": [
    "f, axarr = plt.subplots(1, 2, figsize=(10,2.5))\n",
    "axarr[0].plot(np.arange(1, 61), beta, \n",
    "                 label=\"historical liability data\", \n",
    "                 color = \"cornflowerblue\")\n",
    "axarr[0].plot(np.arange(1 + 2, 61), beta_hat, \n",
    "                 label=\"fitted liability data\", \n",
    "                 color = \"lightcoral\")\n",
    "axarr[0].legend(loc=\"upper left\", fontsize = 'x-small')\n",
    "axarr[0].set_xlabel('month')\n",
    "axarr[1].plot(np.arange(1 + 2, 61), (beta[2:]-beta_hat)/sigma, \n",
    "                 label=\"historical noise estimation\", \n",
    "                 color = \"cornflowerblue\")\n",
    "axarr[1].legend(loc=\"upper left\", fontsize = 'x-small')\n",
    "axarr[1].set_xlabel('month')\n",
    "f.savefig(\"report/uncertaintyModel.png\")"
   ]
  },
  {
   "cell_type": "markdown",
   "metadata": {},
   "source": [
    "## Uncertainty Model<a id=\"1UncertaintyModel\"></a>"
   ]
  },
  {
   "cell_type": "code",
   "execution_count": 9,
   "metadata": {
    "collapsed": true
   },
   "outputs": [],
   "source": [
    "def calc_beta_hat_B(sigma, theta, beta):\n",
    "    theta_1 = theta[0]\n",
    "    theta_2 = theta[1]\n",
    "    beta_t_1 = beta[-2]\n",
    "    beta_t = beta[-1]\n",
    "    beta_t1 = np.array([theta_1, theta_2, sigma])\n",
    "    beta_t2 = theta_1*np.concatenate([beta_t1, [0]]) + \\\n",
    "        theta_2*np.array([1, 0, 0, 0]) + \\\n",
    "        sigma*np.array([0, 0, 0, 1])\n",
    "    beta_t3 = theta_1*np.concatenate([beta_t2, [0]]) + \\\n",
    "        theta_2*np.concatenate([beta_t1, [0, 0]]) + \\\n",
    "        sigma*np.array([0, 0, 0, 0, 1])\n",
    "    beta_t4 = theta_1*np.concatenate([beta_t3, [0]]) + \\\n",
    "        theta_2*np.concatenate([beta_t2, [0, 0]]) + \\\n",
    "        sigma*np.array([0, 0, 0, 0, 0, 1])\n",
    "    beta_t5 = theta_1*np.concatenate([beta_t4, [0]]) + \\\n",
    "        theta_2*np.concatenate([beta_t3, [0, 0]]) + \\\n",
    "        sigma*np.array([0, 0, 0, 0, 0, 0, 1])\n",
    "    beta_t6 = theta_1*np.concatenate([beta_t5, [0]]) + \\\n",
    "        theta_2*np.concatenate([beta_t4, [0, 0]]) + \\\n",
    "        sigma*np.array([0, 0, 0, 0, 0, 0, 0, 1])\n",
    "        \n",
    "    b_hat = np.vstack([beta_t1[:2], beta_t2[:2], beta_t3[:2], \n",
    "                       beta_t4[:2], beta_t5[:2], beta_t6[:2]]).dot(\n",
    "        np.array([beta_t, beta_t_1]))\n",
    "    B = np.vstack([np.concatenate([beta_t1[2:], np.zeros(5)]),\n",
    "                  np.concatenate([beta_t2[2:], np.zeros(4)]),\n",
    "                  np.concatenate([beta_t3[2:], np.zeros(3)]),\n",
    "                  np.concatenate([beta_t4[2:], np.zeros(2)]),\n",
    "                  np.concatenate([beta_t5[2:], np.zeros(1)]),\n",
    "                  beta_t6[2:]])\n",
    "    return b_hat.reshape(6, 1), B"
   ]
  },
  {
   "cell_type": "code",
   "execution_count": 10,
   "metadata": {
    "collapsed": false
   },
   "outputs": [],
   "source": [
    "b_hat, B = calc_beta_hat_B(sigma, theta, beta)"
   ]
  },
  {
   "cell_type": "code",
   "execution_count": 11,
   "metadata": {
    "collapsed": false
   },
   "outputs": [
    {
     "data": {
      "text/plain": [
       "array([[ 2.53868639],\n",
       "       [ 1.93268543],\n",
       "       [ 2.22029883],\n",
       "       [ 2.02661616],\n",
       "       [ 2.09286371],\n",
       "       [ 2.0194315 ]])"
      ]
     },
     "execution_count": 11,
     "metadata": {},
     "output_type": "execute_result"
    }
   ],
   "source": [
    "b_hat"
   ]
  },
  {
   "cell_type": "code",
   "execution_count": 12,
   "metadata": {
    "collapsed": false
   },
   "outputs": [
    {
     "data": {
      "text/plain": [
       "array([[ 3.24341243,  0.        ,  0.        ,  0.        ,  0.        ,\n",
       "         0.        ],\n",
       "       [ 1.45644363,  3.24341243,  0.        ,  0.        ,  0.        ,\n",
       "         0.        ],\n",
       "       [ 2.38187229,  1.45644363,  3.24341243,  0.        ,  0.        ,\n",
       "         0.        ],\n",
       "       [ 1.84546219,  2.38187229,  1.45644363,  3.24341243,  0.        ,\n",
       "         0.        ],\n",
       "       [ 2.09759205,  1.84546219,  2.38187229,  1.45644363,  3.24341243,\n",
       "         0.        ],\n",
       "       [ 1.9250487 ,  2.09759205,  1.84546219,  2.38187229,  1.45644363,\n",
       "         3.24341243]])"
      ]
     },
     "execution_count": 12,
     "metadata": {},
     "output_type": "execute_result"
    }
   ],
   "source": [
    "B"
   ]
  },
  {
   "cell_type": "markdown",
   "metadata": {},
   "source": [
    "# 2 Decision Making<a id=\"DecisionMaking\"></a>"
   ]
  },
  {
   "cell_type": "code",
   "execution_count": 13,
   "metadata": {
    "collapsed": false
   },
   "outputs": [],
   "source": [
    "A = np.array([[  -1.,     0,     0,     0,     0,  0,    1.,     0,     0,    1.,     0,     0,     0,     0],\n",
    "              [1.003,    -1,     0,     0,     0,  0,     0,    1.,     0, -1.01,    1.,     0,     0,     0],\n",
    "              [    0, 1.003,    -1,     0,     0,  0,     0,     0,    1.,     0, -1.01,    1.,     0,     0],\n",
    "              [    0,     0, 1.003,    -1,     0,  0, -1.02,     0,     0,     0,     0, -1.01,    1.,     0],\n",
    "              [    0,     0,     0, 1.003,    -1,  0,     0, -1.02,     0,     0,     0,     0, -1.01,    1.],\n",
    "              [    0,     0,     0,     0, 1.003, -1,     0,     0, -1.02,     0,     0,     0,     0, -1.01]])"
   ]
  },
  {
   "cell_type": "markdown",
   "metadata": {
    "collapsed": true
   },
   "source": [
    "## Naive Strategy<a id=\"2NaiveStrategy\"></a>"
   ]
  },
  {
   "cell_type": "code",
   "execution_count": 14,
   "metadata": {
    "collapsed": true
   },
   "outputs": [],
   "source": [
    "def naive_strategy_jan(C_initial):\n",
    "    C_initial_array = np.array([C_initial, 0, 0, 0, 0, 0]).reshape(6, 1)\n",
    "    x_cash = Variable(6, 1)\n",
    "    x_cp = Variable(3, 1)\n",
    "    x_cre = Variable(5, 1)\n",
    "    prob = Problem(Maximize(x_cash[5]), \n",
    "               [A*vstack(x_cash, x_cp, x_cre) + C_initial_array >= b_hat,\n",
    "                x_cre <= 1, x_cre >=0, x_cp >= 0, x_cash >= 0])\n",
    "    prob.solve()\n",
    "    return x_cash.value, x_cp.value, x_cre.value"
   ]
  },
  {
   "cell_type": "code",
   "execution_count": 15,
   "metadata": {
    "collapsed": false
   },
   "outputs": [],
   "source": [
    "def naive_strategy(C_initial, b_hat, month, \n",
    "                   x_cash_previous, x_cp_previous, x_cre_previous):\n",
    "    \n",
    "    month_remaining = 6-month\n",
    "    \n",
    "    # we have already applied the strategy to the previous i-1 month \n",
    "    x_cash_previous = x_cash_previous[:(month-1), :] \n",
    "    x_cp_previous = x_cp_previous[:min(month-1, 3), :]\n",
    "    x_cre_previous = x_cre_previous[:min(month-1, 5), :]\n",
    "    \n",
    "    C_initial_array = np.insert(np.zeros(month_remaining), 0, C_initial).reshape(month_remaining+1, 1)\n",
    "    x_cash = Variable(6, 1)\n",
    "    x_cp = Variable(3, 1)\n",
    "    x_cre = Variable(5, 1)\n",
    "    prob = Problem(Maximize(x_cash[5]), \n",
    "                   [A[(month-1):, :]*vstack(x_cash, x_cp, x_cre) + C_initial_array >= b_hat[:(month_remaining+1), :],\n",
    "                    x_cre <= 1, x_cre >=0, x_cp >= 0, x_cash >= 0,\n",
    "                    # we have already applied the strategy to the previous i-1 month \n",
    "                    x_cash[:(month-1), :] ==  x_cash_previous,\n",
    "                    x_cp[:min([month-1, 3]), :] == x_cp_previous,\n",
    "                    x_cre[:min([month-1, 5]), :] == x_cre_previous])\n",
    "    prob.solve()\n",
    "#     if month == 3:\n",
    "#         import pdb; pdb.set_trace()\n",
    "    return x_cash.value, x_cp.value, x_cre.value"
   ]
  },
  {
   "cell_type": "code",
   "execution_count": 16,
   "metadata": {
    "collapsed": true
   },
   "outputs": [],
   "source": [
    "def rolling_naive(C_initial, test_data, beta, verbose=False):\n",
    "    sigma, theta = ar_opt(beta = beta, p = 2)\n",
    "    b_hat, B = calc_beta_hat_B(sigma, theta, beta)\n",
    "    if verbose:\n",
    "        print(\"month 1:\")\n",
    "        print(b_hat)\n",
    "    x_cash_previous, x_cp_previous, x_cre_previous = naive_strategy_jan(C_initial)\n",
    "    \n",
    "    for i in np.arange(5):\n",
    "        C_initial = A[i, ]*np.vstack([x_cash_previous, x_cp_previous, x_cre_previous]) + C_initial - test_data[i]\n",
    "        if verbose: \n",
    "            print(\"month\", i+2)\n",
    "            print(C_initial+test_data[i])\n",
    "            print(C_initial)\n",
    "        if (C_initial < 0):\n",
    "            return False, 0\n",
    "        beta = np.insert(beta, len(beta), test_data[i])\n",
    "        sigma, theta = ar_opt(beta = beta, p = 2)\n",
    "        b_hat, B = calc_beta_hat_B(sigma, theta, beta)\n",
    "        if verbose: \n",
    "            print(\"b_hat: \")\n",
    "            print(b_hat)\n",
    "        x_cash_previous, x_cp_previous, x_cre_previous = naive_strategy(\n",
    "            C_initial, b_hat, i+2, x_cash_previous, x_cp_previous, x_cre_previous)\n",
    "        \n",
    "    return True, x_cash_previous[-1, 0] + b_hat[0, 0] - test_data[5]\n",
    "#     return x_cash.value, x_cp.value, x_cre.value"
   ]
  },
  {
   "cell_type": "code",
   "execution_count": 17,
   "metadata": {
    "collapsed": false
   },
   "outputs": [],
   "source": [
    "results_rolling_naive = []\n",
    "results_rolling_naive += [rolling_naive(70.3, test_data, beta)]\n",
    "for i in more_test_data:\n",
    "    results_rolling_naive += [rolling_naive(70.3, i, beta, False)]"
   ]
  },
  {
   "cell_type": "code",
   "execution_count": 18,
   "metadata": {
    "collapsed": false
   },
   "outputs": [
    {
     "data": {
      "text/plain": [
       "[(False, 0),\n",
       " (False, 0),\n",
       " (False, 0),\n",
       " (False, 0),\n",
       " (False, 0),\n",
       " (False, 0),\n",
       " (False, 0),\n",
       " (False, 0),\n",
       " (False, 0),\n",
       " (False, 0),\n",
       " (False, 0),\n",
       " (False, 0),\n",
       " (False, 0),\n",
       " (False, 0),\n",
       " (False, 0),\n",
       " (True, 70.266958161769821),\n",
       " (False, 0),\n",
       " (False, 0),\n",
       " (False, 0),\n",
       " (False, 0),\n",
       " (False, 0)]"
      ]
     },
     "execution_count": 18,
     "metadata": {},
     "output_type": "execute_result"
    }
   ],
   "source": [
    "results_rolling_naive"
   ]
  },
  {
   "cell_type": "markdown",
   "metadata": {},
   "source": [
    "## Robust Strategy<a id=\"2RobustStrategy\"></a>"
   ]
  },
  {
   "cell_type": "code",
   "execution_count": 19,
   "metadata": {
    "collapsed": true
   },
   "outputs": [],
   "source": [
    "def robust_strategy_jan(C_initial):\n",
    "    C_initial_array = np.array([C_initial, 0, 0, 0, 0, 0]).reshape(6, 1)\n",
    "    x_cash = Variable(6, 1)\n",
    "    x_cp = Variable(3, 1)\n",
    "    x_cre = Variable(5, 1)\n",
    "    prob = Problem(Maximize(x_cash[5]), \n",
    "                   [A*vstack(x_cash, x_cp, x_cre) + C_initial_array >= \\\n",
    "                    b_hat + abs(B)*np.ones(6).T,\n",
    "                    x_cre <= 1, x_cre >=0, x_cp >= 0, x_cash >= 0])\n",
    "    prob.solve()\n",
    "    return x_cash.value, x_cp.value, x_cre.value"
   ]
  },
  {
   "cell_type": "code",
   "execution_count": 20,
   "metadata": {
    "collapsed": true
   },
   "outputs": [],
   "source": [
    "def robust_strategy(C_initial, b_hat, month, B, \n",
    "                    x_cash_previous, x_cp_previous, x_cre_previous):\n",
    "    \n",
    "    month_remaining = 6-month\n",
    "    \n",
    "    # we have already applied the strategy to the previous i-1 month \n",
    "    x_cash_previous = x_cash_previous[:(month-1), :] \n",
    "    x_cp_previous = x_cp_previous[:min(month-1, 3), :]\n",
    "    x_cre_previous = x_cre_previous[:min(month-1, 5), :]\n",
    "    \n",
    "    C_initial_array = np.insert(np.zeros(month_remaining), 0, C_initial).reshape(month_remaining+1, 1)\n",
    "    x_cash = Variable(6, 1)\n",
    "    x_cp = Variable(3, 1)\n",
    "    x_cre = Variable(5, 1)\n",
    "    prob = Problem(Maximize(x_cash[5]), \n",
    "                   [A[(month-1):, :]*vstack(x_cash, x_cp, x_cre) + C_initial_array >= \\\n",
    "                    (b_hat + abs(B)*np.ones(6).T)[:(month_remaining+1), :],\n",
    "                    x_cre <= 1, x_cre >=0, x_cp >= 0, x_cash >= 0,\n",
    "                    # we have already applied the strategy to the previous i-1 month \n",
    "                    x_cash[:(month-1), :] ==  x_cash_previous,\n",
    "                    x_cp[:min([month-1, 3]), :] == x_cp_previous,\n",
    "                    x_cre[:min([month-1, 5]), :] == x_cre_previous])\n",
    "    prob.solve()\n",
    "#     if month == 3:\n",
    "#         import pdb; pdb.set_trace()\n",
    "    return x_cash.value, x_cp.value, x_cre.value"
   ]
  },
  {
   "cell_type": "code",
   "execution_count": 21,
   "metadata": {
    "collapsed": true
   },
   "outputs": [],
   "source": [
    "def rolling_robust(C_initial, test_data, beta, verbose=False):\n",
    "    sigma, theta = ar_opt(beta = beta, p = 2)\n",
    "    b_hat, B = calc_beta_hat_B(sigma, theta, beta)\n",
    "    if verbose:\n",
    "        print(\"month 1:\")\n",
    "        print(b_hat)\n",
    "    x_cash_previous, x_cp_previous, x_cre_previous = robust_strategy_jan(C_initial)\n",
    "    \n",
    "    for i in np.arange(5):\n",
    "        C_initial = A[i, ]*np.vstack([x_cash_previous, x_cp_previous, x_cre_previous]) + C_initial - test_data[i]\n",
    "        if verbose: \n",
    "            print(\"month\", i+2)\n",
    "            print(C_initial+test_data[i])\n",
    "            print(C_initial)\n",
    "        if (C_initial < 0):\n",
    "            return False, 0\n",
    "        beta = np.insert(beta, len(beta), test_data[i])\n",
    "        sigma, theta = ar_opt(beta = beta, p = 2)\n",
    "        b_hat, B = calc_beta_hat_B(sigma, theta, beta)\n",
    "        if verbose: \n",
    "            print(\"b_hat: \")\n",
    "            print(b_hat)\n",
    "        x_cash_previous, x_cp_previous, x_cre_previous = robust_strategy(\n",
    "            C_initial, b_hat, i+2, B, x_cash_previous, x_cp_previous, x_cre_previous)\n",
    "        \n",
    "    return True, x_cash_previous[-1, 0] + b_hat[0, 0] - test_data[5]\n",
    "#     return x_cash.value, x_cp.value, x_cre.value"
   ]
  },
  {
   "cell_type": "code",
   "execution_count": 22,
   "metadata": {
    "collapsed": false
   },
   "outputs": [],
   "source": [
    "results_rolling_robust = []\n",
    "results_rolling_robust += [rolling_robust(70.3, test_data, beta)]\n",
    "for i in more_test_data:\n",
    "    results_rolling_robust += [rolling_robust(70.3, i, beta, False)]"
   ]
  },
  {
   "cell_type": "code",
   "execution_count": 23,
   "metadata": {
    "collapsed": false
   },
   "outputs": [
    {
     "data": {
      "text/plain": [
       "[(True, 63.844405149128214),\n",
       " (True, 66.929212020013409),\n",
       " (True, 71.594107406126554),\n",
       " (True, 65.81812784445431),\n",
       " (True, 67.571157461245804),\n",
       " (True, 69.36569858591254),\n",
       " (True, 70.228694068890064),\n",
       " (True, 62.254453667903711),\n",
       " (True, 75.171301599215383),\n",
       " (True, 60.746050941659831),\n",
       " (True, 63.677342564972655),\n",
       " (True, 66.436371112397694),\n",
       " (True, 70.307614943202921),\n",
       " (True, 65.696961050714904),\n",
       " (True, 64.556972002906264),\n",
       " (True, 66.974601821575362),\n",
       " (True, 62.810073649025945),\n",
       " (True, 68.308289750975746),\n",
       " (True, 63.80976852320628),\n",
       " (True, 62.999274973210959),\n",
       " (True, 67.484170354837374)]"
      ]
     },
     "execution_count": 23,
     "metadata": {},
     "output_type": "execute_result"
    }
   ],
   "source": [
    "results_rolling_robust"
   ]
  },
  {
   "cell_type": "markdown",
   "metadata": {},
   "source": [
    "## Affine Strategy<a id=\"2AffineStrategy\"></a>"
   ]
  },
  {
   "cell_type": "code",
   "execution_count": 24,
   "metadata": {
    "collapsed": true
   },
   "outputs": [],
   "source": [
    "def affine_strategy_jan(C_initial):\n",
    "    C_initial_array = np.array([C_initial, 0, 0, 0, 0, 0]).reshape(6, 1)\n",
    "    x_cash = Variable(6, 1)\n",
    "    x_cp = Variable(3, 1)\n",
    "    x_cre = Variable(5, 1)\n",
    "    X_Cash = Variable(6, 6)\n",
    "    X_Cp = Variable(3, 6)\n",
    "    X_Cre = Variable(5, 6)\n",
    "    \n",
    "    constraints = [A*vstack(x_cash,x_cp,x_cre) + C_initial_array >= \\\n",
    "                   b_hat + \\\n",
    "                   sum_entries(abs(B - A*vstack(X_Cash,X_Cp,X_Cre)), axis=1),\n",
    "                   vstack(x_cash,x_cp,x_cre) >= \\\n",
    "                   sum_entries(abs(vstack(X_Cash,X_Cp,X_Cre)), axis=1),\n",
    "                   x_cre + sum_entries(abs(X_Cre), axis=1) <= 1]\n",
    "    \n",
    "    for i in range(6):\n",
    "        constraints += [X_Cash[i, i:] == 0]\n",
    "    for i in range(3):\n",
    "        constraints += [X_Cp[i, i:] == 0]\n",
    "    for i in range(5):\n",
    "        constraints += [X_Cre[i, i:] == 0]\n",
    "\n",
    "    prob = Problem(Maximize(x_cash[5]-sum(abs(X_Cash[-1, :]))), \n",
    "               constraints)\n",
    "    prob.solve()\n",
    "    \n",
    "    return x_cash.value, x_cp.value, x_cre.value"
   ]
  },
  {
   "cell_type": "code",
   "execution_count": 25,
   "metadata": {
    "collapsed": false
   },
   "outputs": [],
   "source": [
    "def affine_strategy(C_initial, b_hat, month, B, \n",
    "                    x_cash_previous, x_cp_previous, x_cre_previous):\n",
    "    \n",
    "    month_remaining = 6-month\n",
    "    \n",
    "    # we have already applied the strategy to the previous i-1 month \n",
    "    x_cash_previous = x_cash_previous[:(month-1), :] \n",
    "    x_cp_previous = x_cp_previous[:min(month-1, 3), :]\n",
    "    x_cre_previous = x_cre_previous[:min(month-1, 5), :]\n",
    "    \n",
    "    C_initial_array = np.insert(np.zeros(month_remaining), 0, C_initial).reshape(month_remaining+1, 1)\n",
    "    x_cash = Variable(6, 1)\n",
    "    x_cp = Variable(3, 1)\n",
    "    x_cre = Variable(5, 1)\n",
    "    X_Cash = Variable(6, 6)\n",
    "    X_Cp = Variable(3, 6)\n",
    "    X_Cre = Variable(5, 6)\n",
    "    \n",
    "    constraints = [A[(month-1):, :]*vstack(x_cash,x_cp,x_cre) + C_initial_array >= \\\n",
    "                   b_hat[:(month_remaining+1), :] + \\\n",
    "                   sum_entries(abs(B - A*vstack(X_Cash,X_Cp,X_Cre)), axis=1)[:(month_remaining+1), :],\n",
    "                   vstack(x_cash,x_cp,x_cre) >= \\\n",
    "                   sum_entries(abs(vstack(X_Cash,X_Cp,X_Cre)), axis=1),\n",
    "                   x_cre + sum_entries(abs(X_Cre), axis=1) <= 1,\n",
    "                    # we have already applied the strategy to the previous i-1 month \n",
    "                    x_cash[:(month-1), :] ==  x_cash_previous,\n",
    "                    x_cp[:min([month-1, 3]), :] == x_cp_previous,\n",
    "                    x_cre[:min([month-1, 5]), :] == x_cre_previous]\n",
    "    \n",
    "    for i in range(6):\n",
    "        constraints += [X_Cash[i, i:] == 0]\n",
    "    for i in range(3):\n",
    "        constraints += [X_Cp[i, i:] == 0]\n",
    "    for i in range(5):\n",
    "        constraints += [X_Cre[i, i:] == 0]\n",
    "        \n",
    "    constraints += [vstack(X_Cash,X_Cp,X_Cre)[:, :(month-1)] == 0]\n",
    "\n",
    "    prob = Problem(Maximize(x_cash[5]-sum(abs(X_Cash[-1, :]))), \n",
    "               constraints)\n",
    "    prob.solve()\n",
    "    \n",
    "    return x_cash.value, x_cp.value, x_cre.value"
   ]
  },
  {
   "cell_type": "code",
   "execution_count": 26,
   "metadata": {
    "collapsed": true
   },
   "outputs": [],
   "source": [
    "def rolling_affine(C_initial, test_data, beta, verbose=False):\n",
    "    sigma, theta = ar_opt(beta = beta, p = 2)\n",
    "    b_hat, B = calc_beta_hat_B(sigma, theta, beta)\n",
    "    if verbose:\n",
    "        print(\"month 1:\")\n",
    "        print(b_hat)\n",
    "    x_cash_previous, x_cp_previous, x_cre_previous = affine_strategy_jan(C_initial)\n",
    "    \n",
    "    for i in np.arange(5):\n",
    "        C_initial = A[i, ]*np.vstack([x_cash_previous, x_cp_previous, x_cre_previous]) + C_initial - test_data[i]\n",
    "        if verbose: \n",
    "            print(\"month\", i+2)\n",
    "            print(C_initial+test_data[i])\n",
    "            print(C_initial)\n",
    "        if (C_initial < 0):\n",
    "            return False, 0\n",
    "        beta = np.insert(beta, len(beta), test_data[i])\n",
    "        sigma, theta = ar_opt(beta = beta, p = 2)\n",
    "        b_hat, B = calc_beta_hat_B(sigma, theta, beta)\n",
    "        if verbose: \n",
    "            print(\"b_hat: \")\n",
    "            print(b_hat)\n",
    "        x_cash_previous, x_cp_previous, x_cre_previous = affine_strategy(\n",
    "            C_initial, b_hat, i+2, B, x_cash_previous, x_cp_previous, x_cre_previous)\n",
    "        \n",
    "    return True, x_cash_previous[-1, 0] + b_hat[0, 0] - test_data[5]\n",
    "#     return x_cash.value, x_cp.value, x_cre.value"
   ]
  },
  {
   "cell_type": "code",
   "execution_count": 27,
   "metadata": {
    "collapsed": false
   },
   "outputs": [],
   "source": [
    "rolling_rolling_affine = []\n",
    "rolling_rolling_affine += [rolling_affine(70.3, test_data, beta)]\n",
    "for i in more_test_data:\n",
    "    rolling_rolling_affine += [rolling_affine(70.3, i, beta, False)]"
   ]
  },
  {
   "cell_type": "code",
   "execution_count": 28,
   "metadata": {
    "collapsed": false
   },
   "outputs": [
    {
     "data": {
      "text/plain": [
       "[(True, 63.844404774169845),\n",
       " (True, 66.929211561807861),\n",
       " (True, 71.594106754601057),\n",
       " (True, 65.818127333663824),\n",
       " (True, 67.571157088066713),\n",
       " (True, 69.365698024303512),\n",
       " (True, 70.228693671196027),\n",
       " (True, 62.25445327636622),\n",
       " (True, 75.171301054996036),\n",
       " (True, 60.746050741967615),\n",
       " (True, 63.67734204642327),\n",
       " (True, 66.43637054492325),\n",
       " (True, 70.30761474826096),\n",
       " (True, 65.696960619118215),\n",
       " (True, 64.556971513619672),\n",
       " (True, 66.974601454059467),\n",
       " (True, 62.810073277178532),\n",
       " (True, 68.308289554307336),\n",
       " (True, 63.809768135453972),\n",
       " (True, 62.999274489537953),\n",
       " (True, 67.484169747308485)]"
      ]
     },
     "execution_count": 28,
     "metadata": {},
     "output_type": "execute_result"
    }
   ],
   "source": [
    "rolling_rolling_affine"
   ]
  },
  {
   "cell_type": "markdown",
   "metadata": {},
   "source": [
    "# 3 Evaluation Metrics<a id=\"EvaluationMetrics\"></a>"
   ]
  },
  {
   "cell_type": "code",
   "execution_count": 29,
   "metadata": {
    "collapsed": false
   },
   "outputs": [],
   "source": [
    "def test(test):    \n",
    "    C_initial = 70.3\n",
    "    C_initial_array = np.array([C_initial, 0, 0, 0, 0, 0]).reshape(6, 1)\n",
    "    x_cash = Variable(6, 1)\n",
    "    x_cp = Variable(3, 1)\n",
    "    x_cre = Variable(5, 1)\n",
    "    prob = Problem(Maximize(x_cash[5]), \n",
    "               [A*vstack(x_cash, x_cp, x_cre) + C_initial_array >= test,\n",
    "                x_cre <= 1, x_cre >=0, x_cp >= 0, x_cash >= 0])\n",
    "    prob.solve()\n",
    "    return x_cash.value, x_cp.value, x_cre.value"
   ]
  },
  {
   "cell_type": "code",
   "execution_count": 30,
   "metadata": {
    "collapsed": false
   },
   "outputs": [],
   "source": [
    "optimal = []\n",
    "optimal += [test(test_data)[0][5, 0]]\n",
    "for i in more_test_data:\n",
    "    optimal += [test(i)[0][5, 0]]"
   ]
  },
  {
   "cell_type": "code",
   "execution_count": 31,
   "metadata": {
    "collapsed": false
   },
   "outputs": [],
   "source": [
    "naive_regret = np.asarray(optimal) - np.asarray([i[1] for i in results_rolling_naive])\n",
    "robust_regret = np.asarray(optimal) - np.asarray([i[1] for i in results_rolling_robust])\n",
    "affine_regret = np.asarray(optimal) - np.asarray([i[1] for i in rolling_rolling_affine])"
   ]
  },
  {
   "cell_type": "code",
   "execution_count": 32,
   "metadata": {
    "collapsed": false
   },
   "outputs": [
    {
     "data": {
      "image/png": "[encoded data removed]",
      "text/plain": [
       "<matplotlib.figure.Figure at 0x108cae7b8>"
      ]
     },
     "metadata": {},
     "output_type": "display_data"
    }
   ],
   "source": [
    "plt.figure(figsize=(7,3.5))\n",
    "plt.hist([naive_regret, robust_regret], \n",
    "         20, histtype='bar', \n",
    "         label=[\"Naive\", \"Robust, Affine, Relative robust\"])\n",
    "# plt.title('Regret histogram of more test data')\n",
    "plt.legend(loc=\"upper right\", fontsize = 'small', framealpha=0.5)\n",
    "plt.ylim(0, 25)\n",
    "plt.savefig(\"report/rolling_regret.png\")"
   ]
  },
  {
   "cell_type": "code",
   "execution_count": null,
   "metadata": {
    "collapsed": true
   },
   "outputs": [],
   "source": []
  }
 ],
 "metadata": {
  "kernelspec": {
   "display_name": "Python 3",
   "language": "python",
   "name": "python3"
  },
  "language_info": {
   "codemirror_mode": {
    "name": "ipython",
    "version": 3
   },
   "file_extension": ".py",
   "mimetype": "text/x-python",
   "name": "python",
   "nbconvert_exporter": "python",
   "pygments_lexer": "ipython3",
   "version": "3.5.1"
  }
 },
 "nbformat": 4,
 "nbformat_minor": 1
}
