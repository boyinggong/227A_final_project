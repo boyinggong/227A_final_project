{
 "cells": [
  {
   "cell_type": "markdown",
   "metadata": {},
   "source": [
    "* [1 Uncertainty Model](#UncertaintyModel)\n",
    "    * [Cross-validation](#1CrossValidation)\n",
    "    * [AR Parameter Optimization](#1ARParameterOptimization)\n",
    "    * [Uncertainty Model](#1UncertaintyModel)\n",
    "* [2 Decision Making and Evaluation](#2DecisionMakingEvaluation)\n",
    "\n",
    "* [3 Initial Asset and feasibility Analysis]()"
   ]
  },
  {
   "cell_type": "code",
   "execution_count": 1,
   "metadata": {
    "collapsed": true
   },
   "outputs": [],
   "source": [
    "import numpy as np\n",
    "from cvxpy import *\n",
    "import matplotlib.pyplot as plt\n",
    "plt.style.use('ggplot')\n",
    "%matplotlib inline"
   ]
  },
  {
   "cell_type": "code",
   "execution_count": 2,
   "metadata": {
    "collapsed": false
   },
   "outputs": [],
   "source": [
    "# load data.\n",
    "beta = np.loadtxt(\"projectdata.txt\")\n",
    "# load test data.\n",
    "test_data = np.loadtxt(\"test_data.txt\")\n",
    "more_test_data = np.genfromtxt(\"more_test_data.txt\", delimiter=',')"
   ]
  },
  {
   "cell_type": "markdown",
   "metadata": {},
   "source": [
    "# 1 Uncertainty Model <a id=\"UncertaintyModel\"></a>"
   ]
  },
  {
   "cell_type": "markdown",
   "metadata": {},
   "source": [
    "## Cross-validation<a id=\"1CrossValidation\"></a>"
   ]
  },
  {
   "cell_type": "code",
   "execution_count": 3,
   "metadata": {
    "collapsed": false
   },
   "outputs": [],
   "source": [
    "def uncertainty_model_cv(beta, p):\n",
    "    n = len(beta)\n",
    "    # create the H matrix, split the traning and validation set\n",
    "    H_all = np.zeros(p*n).reshape(n, p)\n",
    "    for i in np.arange(p):\n",
    "        H_all[:,i] = np.concatenate([np.zeros(i+1), beta[:-(i+1)]])\n",
    "    beta_validation = beta[-6:]\n",
    "    H_p = H_all[p:-6, :]\n",
    "    H_validation = H_all[-6:, :]\n",
    "    beta_p = beta[p:-6]\n",
    "    # solve the optimization problem\n",
    "    sigma_hat = Variable(1)\n",
    "    theta_hat = Variable(p)\n",
    "    prob = Problem(Minimize(sigma_hat), \n",
    "                   [norm(beta_p - H_p*theta_hat, \"inf\") <= sigma_hat,\n",
    "                    sigma_hat > 0])\n",
    "    prob.solve()\n",
    "    # calculate the error\n",
    "    error = H_validation.dot(np.array(theta_hat.value)).flatten()-\\\n",
    "    beta_validation\n",
    "    # calculate the mean absolute error\n",
    "    mae = sum(np.abs(error))/6\n",
    "    n_excess_bound = sum(np.abs(error)-sigma_hat.value > 0)\n",
    "    return sigma_hat.value, theta_hat.value, mae, n_excess_bound"
   ]
  },
  {
   "cell_type": "code",
   "execution_count": 4,
   "metadata": {
    "collapsed": false
   },
   "outputs": [],
   "source": [
    "maes = []\n",
    "n_excess_bounds = []\n",
    "for p in np.arange(1, 31):\n",
    "    theta_hats_cv = []\n",
    "    maes_cv = []\n",
    "    n_excess_bounds_cv = []\n",
    "    for cv in np.arange(10):\n",
    "        if cv == 0:\n",
    "            sigma_hat, theta_hat, mae, n_excess_bound = \\\n",
    "            uncertainty_model_cv(beta,p)\n",
    "        else:\n",
    "            sigma_hat, theta_hat, mae, n_excess_bound = \\\n",
    "            uncertainty_model_cv(beta[:-cv],p)\n",
    "        maes_cv += [mae]\n",
    "        n_excess_bounds_cv += [n_excess_bound]\n",
    "    maes += [np.mean(maes_cv)]\n",
    "    n_excess_bounds += [np.mean(n_excess_bounds_cv)/6]"
   ]
  },
  {
   "cell_type": "code",
   "execution_count": 5,
   "metadata": {
    "collapsed": false
   },
   "outputs": [
    {
     "data": {
      "image/png": "[encoded data removed]",
      "text/plain": [
       "<matplotlib.figure.Figure at 0x108c3d898>"
      ]
     },
     "metadata": {},
     "output_type": "display_data"
    }
   ],
   "source": [
    "f, axarr = plt.subplots(1, 2, figsize=(10,2.5))\n",
    "axarr[0].scatter(np.arange(1, 31), maes, \n",
    "                 label=\"Mean Absolute Error\", \n",
    "                 color = \"cornflowerblue\")\n",
    "axarr[0].scatter(np.arange(1, 31)[1], maes[1], \n",
    "                 color = \"lightcoral\", \n",
    "                 label=\"Mininum Mean Absolute Error\")\n",
    "axarr[0].legend(loc=\"upper left\", fontsize = 'x-small')\n",
    "axarr[0].set_xlim([0, 31])\n",
    "axarr[0].legend(loc=\"upper left\", fontsize = 'small')\n",
    "axarr[0].set_xlabel('p')\n",
    "axarr[1].scatter(np.arange(1, 31), n_excess_bounds, \n",
    "                 label=\"Out-of-bound Error\", \n",
    "                 color = \"cornflowerblue\")\n",
    "axarr[1].scatter(np.arange(1, 31)[:5], n_excess_bounds[:5], \n",
    "                 color = \"lightcoral\",\n",
    "                 label=\"Minimum Out-of-bound Error\")\n",
    "axarr[1].set_xlim([0, 31])\n",
    "axarr[1].legend(loc=\"upper left\", fontsize = 'small')\n",
    "axarr[1].set_xlabel('p')\n",
    "f.savefig(\"report/cv.png\")"
   ]
  },
  {
   "cell_type": "markdown",
   "metadata": {},
   "source": [
    "## AR Parameter Optimization<a id=\"1ARParameterOptimization\"></a>"
   ]
  },
  {
   "cell_type": "markdown",
   "metadata": {},
   "source": [
    "We choose p=2 to fit our model."
   ]
  },
  {
   "cell_type": "code",
   "execution_count": 6,
   "metadata": {
    "collapsed": false
   },
   "outputs": [],
   "source": [
    "def ar_opt(beta, p, return_beta_hat = False):\n",
    "    n = len(beta)\n",
    "    # create the H matrix\n",
    "    H_p = np.zeros(p*n).reshape(n, p)\n",
    "    for i in np.arange(p):\n",
    "        H_p[:,i] = np.concatenate([np.zeros(i+1), beta[:-(i+1)]])\n",
    "    beta_validation = beta[-6:]\n",
    "    H_p = H_p[p:, :]\n",
    "    beta_p = beta[p:]\n",
    "    # solve the optimization problem\n",
    "    sigma_hat = Variable(1)\n",
    "    theta_hat = Variable(p)\n",
    "    prob = Problem(Minimize(sigma_hat), \n",
    "                   [norm(beta_p - H_p*theta_hat, \"inf\") <= sigma_hat,\n",
    "                    sigma_hat > 0])\n",
    "    prob.solve()\n",
    "    if (return_beta_hat):\n",
    "        return [sigma_hat.value, np.asarray(theta_hat.value).flatten(), \n",
    "                np.asarray(H_p*theta_hat.value).flatten()]\n",
    "    return [sigma_hat.value, np.asarray(theta_hat.value).flatten()]"
   ]
  },
  {
   "cell_type": "code",
   "execution_count": 7,
   "metadata": {
    "collapsed": false
   },
   "outputs": [],
   "source": [
    "sigma, theta, beta_hat = ar_opt(beta = beta, p = 2, return_beta_hat = True)"
   ]
  },
  {
   "cell_type": "code",
   "execution_count": 8,
   "metadata": {
    "collapsed": false
   },
   "outputs": [
    {
     "data": {
      "text/plain": [
       "<matplotlib.legend.Legend at 0x108fd94a8>"
      ]
     },
     "execution_count": 8,
     "metadata": {},
     "output_type": "execute_result"
    },
    {
     "data": {
      "image/png": "[encoded data removed]",
      "text/plain": [
       "<matplotlib.figure.Figure at 0x108fba7f0>"
      ]
     },
     "metadata": {},
     "output_type": "display_data"
    }
   ],
   "source": [
    "f, axarr = plt.subplots(1, 2, figsize=(10,2.5))\n",
    "axarr[0].plot(np.arange(1, 61), beta, \n",
    "                 label=\"historical liability data\", \n",
    "                 color = \"cornflowerblue\")\n",
    "axarr[0].plot(np.arange(1 + 2, 61), beta_hat, \n",
    "                 label=\"fitted liability data\", \n",
    "                 color = \"lightcoral\")\n",
    "axarr[0].legend(loc=\"upper left\", fontsize = 'x-small')\n",
    "axarr[1].plot(np.arange(1 + 2, 61), (beta[2:]-beta_hat)/sigma, \n",
    "                 label=\"historical noice estimation\", \n",
    "                 color = \"cornflowerblue\")\n",
    "axarr[1].legend(loc=\"upper left\", fontsize = 'x-small')"
   ]
  },
  {
   "cell_type": "markdown",
   "metadata": {},
   "source": [
    "## Uncertainty Model<a id=\"1UncertaintyModel\"></a>"
   ]
  },
  {
   "cell_type": "code",
   "execution_count": 9,
   "metadata": {
    "collapsed": true
   },
   "outputs": [],
   "source": [
    "def calc_beta_hat_B(sigma, theta, beta):\n",
    "    theta_1 = theta[0]\n",
    "    theta_2 = theta[1]\n",
    "    beta_t_1 = beta[-2]\n",
    "    beta_t = beta[-1]\n",
    "    beta_t1 = np.array([theta_1, theta_2, sigma])\n",
    "    beta_t2 = theta_1*np.concatenate([beta_t1, [0]]) + \\\n",
    "        theta_2*np.array([1, 0, 0, 0]) + \\\n",
    "        sigma*np.array([0, 0, 0, 1])\n",
    "    beta_t3 = theta_1*np.concatenate([beta_t2, [0]]) + \\\n",
    "        theta_2*np.concatenate([beta_t1, [0, 0]]) + \\\n",
    "        sigma*np.array([0, 0, 0, 0, 1])\n",
    "    beta_t4 = theta_1*np.concatenate([beta_t3, [0]]) + \\\n",
    "        theta_2*np.concatenate([beta_t2, [0, 0]]) + \\\n",
    "        sigma*np.array([0, 0, 0, 0, 0, 1])\n",
    "    beta_t5 = theta_1*np.concatenate([beta_t4, [0]]) + \\\n",
    "        theta_2*np.concatenate([beta_t3, [0, 0]]) + \\\n",
    "        sigma*np.array([0, 0, 0, 0, 0, 0, 1])\n",
    "    beta_t6 = theta_1*np.concatenate([beta_t5, [0]]) + \\\n",
    "        theta_2*np.concatenate([beta_t4, [0, 0]]) + \\\n",
    "        sigma*np.array([0, 0, 0, 0, 0, 0, 0, 1])\n",
    "        \n",
    "    b_hat = np.vstack([beta_t1[:2], beta_t2[:2], beta_t3[:2], \n",
    "                       beta_t4[:2], beta_t5[:2], beta_t6[:2]]).dot(\n",
    "        np.array([beta_t, beta_t_1]))\n",
    "    B = np.vstack([np.concatenate([beta_t1[2:], np.zeros(5)]),\n",
    "                  np.concatenate([beta_t2[2:], np.zeros(4)]),\n",
    "                  np.concatenate([beta_t3[2:], np.zeros(3)]),\n",
    "                  np.concatenate([beta_t4[2:], np.zeros(2)]),\n",
    "                  np.concatenate([beta_t5[2:], np.zeros(1)]),\n",
    "                  beta_t6[2:]])\n",
    "    return b_hat.reshape(6, 1), B"
   ]
  },
  {
   "cell_type": "code",
   "execution_count": 10,
   "metadata": {
    "collapsed": false
   },
   "outputs": [],
   "source": [
    "b_hat, B = calc_beta_hat_B(sigma, theta, beta)"
   ]
  },
  {
   "cell_type": "code",
   "execution_count": 11,
   "metadata": {
    "collapsed": false
   },
   "outputs": [
    {
     "data": {
      "text/plain": [
       "array([[ 2.53868639],\n",
       "       [ 1.93268543],\n",
       "       [ 2.22029883],\n",
       "       [ 2.02661616],\n",
       "       [ 2.09286371],\n",
       "       [ 2.0194315 ]])"
      ]
     },
     "execution_count": 11,
     "metadata": {},
     "output_type": "execute_result"
    }
   ],
   "source": [
    "b_hat"
   ]
  },
  {
   "cell_type": "code",
   "execution_count": 12,
   "metadata": {
    "collapsed": false
   },
   "outputs": [
    {
     "data": {
      "text/plain": [
       "array([[ 3.24341243,  0.        ,  0.        ,  0.        ,  0.        ,\n",
       "         0.        ],\n",
       "       [ 1.45644363,  3.24341243,  0.        ,  0.        ,  0.        ,\n",
       "         0.        ],\n",
       "       [ 2.38187229,  1.45644363,  3.24341243,  0.        ,  0.        ,\n",
       "         0.        ],\n",
       "       [ 1.84546219,  2.38187229,  1.45644363,  3.24341243,  0.        ,\n",
       "         0.        ],\n",
       "       [ 2.09759205,  1.84546219,  2.38187229,  1.45644363,  3.24341243,\n",
       "         0.        ],\n",
       "       [ 1.9250487 ,  2.09759205,  1.84546219,  2.38187229,  1.45644363,\n",
       "         3.24341243]])"
      ]
     },
     "execution_count": 12,
     "metadata": {},
     "output_type": "execute_result"
    }
   ],
   "source": [
    "B"
   ]
  },
  {
   "cell_type": "markdown",
   "metadata": {},
   "source": [
    "# 2 Decision Making and Metrics<a id=\"2DecisionMakingEvaluation\"></a>"
   ]
  },
  {
   "cell_type": "code",
   "execution_count": 13,
   "metadata": {
    "collapsed": true
   },
   "outputs": [],
   "source": [
    "A = np.array([[  -1.,     0,     0,     0,     0,  0,    1.,     0,     0,    1.,     0,     0,     0,     0],\n",
    "              [1.003,    -1,     0,     0,     0,  0,     0,    1.,     0, -1.01,    1.,     0,     0,     0],\n",
    "              [    0, 1.003,    -1,     0,     0,  0,     0,     0,    1.,     0, -1.01,    1.,     0,     0],\n",
    "              [    0,     0, 1.003,    -1,     0,  0, -1.02,     0,     0,     0,     0, -1.01,    1.,     0],\n",
    "              [    0,     0,     0, 1.003,    -1,  0,     0, -1.02,     0,     0,     0,     0, -1.01,    1.],\n",
    "              [    0,     0,     0,     0, 1.003, -1,     0,     0, -1.02,     0,     0,     0,     0, -1.01]])"
   ]
  },
  {
   "cell_type": "markdown",
   "metadata": {
    "collapsed": true
   },
   "source": [
    "## Naive Strategy"
   ]
  },
  {
   "cell_type": "code",
   "execution_count": 14,
   "metadata": {
    "collapsed": true
   },
   "outputs": [],
   "source": [
    "def naive_strategy_jan(C_initial):\n",
    "    C_initial_array = np.array([C_initial, 0, 0, 0, 0, 0]).reshape(6, 1)\n",
    "    x_cash = Variable(6, 1)\n",
    "    x_cp = Variable(3, 1)\n",
    "    x_cre = Variable(5, 1)\n",
    "    prob = Problem(Maximize(x_cash[5]), \n",
    "               [A*vstack(x_cash, x_cp, x_cre) + C_initial_array >= b_hat,\n",
    "                x_cre <= 1, x_cre >=0, x_cp >= 0, x_cash >= 0])\n",
    "    prob.solve()\n",
    "    return x_cash.value, x_cp.value, x_cre.value"
   ]
  },
  {
   "cell_type": "code",
   "execution_count": 36,
   "metadata": {
    "collapsed": false
   },
   "outputs": [],
   "source": [
    "def naive_strategy(C_initial, b_hat, month, \n",
    "                   x_cash_previous, x_cp_previous, x_cre_previous):\n",
    "    \n",
    "    month_remaining = 6-month\n",
    "    \n",
    "    # we have already applied the strategy to the previous i-1 month \n",
    "    x_cash_previous = x_cash_previous[:(month-1), :] \n",
    "    x_cp_previous = x_cp_previous[:min(month-1, 3), :]\n",
    "    x_cre_previous = x_cre_previous[:min(month-1, 5), :]\n",
    "    \n",
    "    C_initial_array = np.insert(np.zeros(month_remaining), 0, C_initial).reshape(month_remaining+1, 1)\n",
    "    x_cash = Variable(6, 1)\n",
    "    x_cp = Variable(3, 1)\n",
    "    x_cre = Variable(5, 1)\n",
    "    prob = Problem(Maximize(x_cash[5]), \n",
    "                   [A[(month-1):, :]*vstack(x_cash, x_cp, x_cre) + C_initial_array >= b_hat[:(month_remaining+1), :],\n",
    "                    x_cre <= 1, x_cre >=0, x_cp >= 0, x_cash >= 0,\n",
    "                    # we have already applied the strategy to the previous i-1 month \n",
    "                    x_cash[:(month-1), :] ==  x_cash_previous,\n",
    "                    x_cp[:min([month-1, 3]), :] == x_cp_previous,\n",
    "                    x_cre[:min([month-1, 5]), :] == x_cre_previous])\n",
    "    prob.solve()\n",
    "#     if month == 3:\n",
    "#         import pdb; pdb.set_trace()\n",
    "    return x_cash.value, x_cp.value, x_cre.value"
   ]
  },
  {
   "cell_type": "code",
   "execution_count": 62,
   "metadata": {
    "collapsed": true
   },
   "outputs": [],
   "source": [
    "def rolling_naive(C_initial, test_data, beta, verbose=False):\n",
    "    sigma, theta = ar_opt(beta = beta, p = 2)\n",
    "    b_hat, B = calc_beta_hat_B(sigma, theta, beta)\n",
    "    if verbose:\n",
    "        print(\"month 1:\")\n",
    "        print(b_hat)\n",
    "    x_cash_previous, x_cp_previous, x_cre_previous = naive_strategy_jan(C_initial)\n",
    "    \n",
    "    for i in np.arange(5):\n",
    "        C_initial = A[i, ]*np.vstack([x_cash_previous, x_cp_previous, x_cre_previous]) + C_initial - test_data[i]\n",
    "        if verbose: \n",
    "            print(\"month\", i+2)\n",
    "            print(C_initial+test_data[i])\n",
    "            print(C_initial)\n",
    "        if (C_initial < 0):\n",
    "            return False, 0\n",
    "        beta = np.insert(beta, len(beta), test_data[i])\n",
    "        sigma, theta = ar_opt(beta = beta, p = 2)\n",
    "        b_hat, B = calc_beta_hat_B(sigma, theta, beta)\n",
    "        if verbose: \n",
    "            print(\"b_hat: \")\n",
    "            print(b_hat)\n",
    "        x_cash_previous, x_cp_previous, x_cre_previous = naive_strategy(\n",
    "            C_initial, b_hat, i+2, x_cash_previous, x_cp_previous, x_cre_previous)\n",
    "        \n",
    "    return True, x_cash_previous[-1]\n",
    "#     return x_cash.value, x_cp.value, x_cre.value"
   ]
  },
  {
   "cell_type": "code",
   "execution_count": 63,
   "metadata": {
    "collapsed": false
   },
   "outputs": [
    {
     "data": {
      "text/plain": [
       "(False, 0)"
      ]
     },
     "execution_count": 63,
     "metadata": {},
     "output_type": "execute_result"
    }
   ],
   "source": [
    "rolling_naive(70.3, test_data, beta)"
   ]
  },
  {
   "cell_type": "code",
   "execution_count": 64,
   "metadata": {
    "collapsed": false
   },
   "outputs": [],
   "source": [
    "results_rolling_naive = []\n",
    "for i in more_test_data:\n",
    "    results_rolling_naive += [rolling_naive(70.3, i, beta, False)]"
   ]
  },
  {
   "cell_type": "code",
   "execution_count": 65,
   "metadata": {
    "collapsed": false
   },
   "outputs": [
    {
     "data": {
      "text/plain": [
       "[(False, 0),\n",
       " (False, 0),\n",
       " (False, 0),\n",
       " (False, 0),\n",
       " (False, 0),\n",
       " (False, 0),\n",
       " (False, 0),\n",
       " (False, 0),\n",
       " (False, 0),\n",
       " (False, 0),\n",
       " (False, 0),\n",
       " (False, 0),\n",
       " (False, 0),\n",
       " (False, 0),\n",
       " (True, matrix([[ 70.09460279]])),\n",
       " (False, 0),\n",
       " (False, 0),\n",
       " (False, 0),\n",
       " (False, 0),\n",
       " (False, 0)]"
      ]
     },
     "execution_count": 65,
     "metadata": {},
     "output_type": "execute_result"
    }
   ],
   "source": [
    "results_rolling_naive"
   ]
  },
  {
   "cell_type": "markdown",
   "metadata": {},
   "source": [
    "## Robust Strategy"
   ]
  },
  {
   "cell_type": "code",
   "execution_count": null,
   "metadata": {
    "collapsed": true
   },
   "outputs": [],
   "source": [
    "def robust_strategy(C_initial):\n",
    "    C_initial_array = np.array([C_initial, 0, 0, 0, 0, 0]).reshape(6, 1)\n",
    "    x_cash = Variable(6, 1)\n",
    "    x_cp = Variable(3, 1)\n",
    "    x_cre = Variable(5, 1)\n",
    "    prob = Problem(Maximize(x_cash[5]), \n",
    "               [A*vstack(x_cash, x_cp, x_cre) + C_initial_array >= \\\n",
    "                b_hat + abs(B)*np.ones(6).T,\n",
    "                x_cre <= 1, x_cre >=0, x_cp >= 0, x_cash >= 0])\n",
    "    prob.solve()\n",
    "    return np.concatenate([np.array(x_cash.value).flatten(), \n",
    "                           np.array(x_cp.value).flatten(), \n",
    "                           np.array(x_cre.value).flatten()])"
   ]
  },
  {
   "cell_type": "code",
   "execution_count": null,
   "metadata": {
    "collapsed": true
   },
   "outputs": [],
   "source": []
  },
  {
   "cell_type": "code",
   "execution_count": null,
   "metadata": {
    "collapsed": true
   },
   "outputs": [],
   "source": []
  },
  {
   "cell_type": "code",
   "execution_count": null,
   "metadata": {
    "collapsed": true
   },
   "outputs": [],
   "source": []
  },
  {
   "cell_type": "code",
   "execution_count": null,
   "metadata": {
    "collapsed": true
   },
   "outputs": [],
   "source": []
  },
  {
   "cell_type": "code",
   "execution_count": null,
   "metadata": {
    "collapsed": true
   },
   "outputs": [],
   "source": []
  },
  {
   "cell_type": "code",
   "execution_count": null,
   "metadata": {
    "collapsed": true
   },
   "outputs": [],
   "source": []
  },
  {
   "cell_type": "markdown",
   "metadata": {},
   "source": [
    "## Affine Strategy"
   ]
  },
  {
   "cell_type": "code",
   "execution_count": null,
   "metadata": {
    "collapsed": true
   },
   "outputs": [],
   "source": [
    "def affine_strategy(C_initial, return_all = False):\n",
    "    C_initial_array = np.array([C_initial, 0, 0, 0, 0, 0]).reshape(6, 1)\n",
    "    x_cash = Variable(6, 1)\n",
    "    x_cp = Variable(3, 1)\n",
    "    x_cre = Variable(5, 1)\n",
    "    X_Cash = Variable(6, 6)\n",
    "    X_Cp = Variable(3, 6)\n",
    "    X_Cre = Variable(5, 6)\n",
    "    \n",
    "    constraints = [A*vstack(x_cash,x_cp,x_cre) + C_initial_array >= \\\n",
    "                   b_hat + \\\n",
    "                   sum_entries(abs(B - A*vstack(X_Cash,X_Cp,X_Cre)), axis=1),\n",
    "                   vstack(x_cash,x_cp,x_cre) >= \\\n",
    "                   sum_entries(abs(vstack(X_Cash,X_Cp,X_Cre)), axis=1),\n",
    "                   x_cre + sum_entries(abs(X_Cre), axis=1) <= 1]\n",
    "    \n",
    "    for i in range(6):\n",
    "        constraints += [X_Cash[i, i:] == 0]\n",
    "    for i in range(3):\n",
    "        constraints += [X_Cp[i, i:] == 0]\n",
    "    for i in range(5):\n",
    "        constraints += [X_Cre[i, i:] == 0]\n",
    "\n",
    "    prob = Problem(Maximize(x_cash[5]-sum(abs(X_Cash[-1, :]))), \n",
    "               constraints)\n",
    "    prob.solve()\n",
    "    \n",
    "    if return_all:\n",
    "        return [np.array(x_cash.value).flatten(), \n",
    "                np.array(x_cp.value).flatten(), \n",
    "                np.array(x_cre.value).flatten(),\n",
    "                np.array(X_Cash.value), \n",
    "                np.array(X_Cp.value), \n",
    "                np.array(X_Cre.value)]\n",
    "    \n",
    "    return np.concatenate([np.array(x_cash.value).flatten(), \n",
    "                           np.array(x_cp.value).flatten(), \n",
    "                           np.array(x_cre.value).flatten()])"
   ]
  },
  {
   "cell_type": "code",
   "execution_count": null,
   "metadata": {
    "collapsed": false
   },
   "outputs": [],
   "source": [
    "f, axarr = plt.subplots(1, 3, figsize=(12,3.5), sharey=True, sharex=True)\n",
    "\n",
    "for i in range(6):\n",
    "    axarr[0].plot(initials, results[:, i], label=\"Xcash(\"+str(i+1)+\")\")\n",
    "axarr[0].set_ylabel(\"Optimal Xcash (in millions)\")\n",
    "axarr[0].set_xlabel(\"Initial Cash (in millions)\")\n",
    "axarr[0].legend(loc=\"upper left\", fontsize = 'small', framealpha=0.5)\n",
    "axarr[0].set_ylim(-1, 70)\n",
    "axarr[0].set_xlim(59, 71)\n",
    "\n",
    "for i in range(6,9):\n",
    "    axarr[1].plot(initials, results[:, i], label=\"Xcp(\"+str(i-5)+\")\")\n",
    "axarr[1].set_ylabel(\"Optimal Xcp (in millions)\")\n",
    "axarr[1].set_xlabel(\"Initial Cash (in millions)\")\n",
    "axarr[1].legend(loc=\"upper left\", fontsize = 'small')\n",
    "\n",
    "\n",
    "for i in range(9,14):\n",
    "    axarr[2].plot(initials, results[:, i], label=\"Xcre(\"+str(i-8)+\")\")\n",
    "axarr[2].set_ylabel(\"Optimal Xcp (in millions)\")\n",
    "axarr[2].set_xlabel(\"Initial Cash (in millions)\")\n",
    "axarr[2].legend(loc=\"upper left\", fontsize = 'small')\n",
    "\n",
    "f.savefig(\"report/affine.png\")"
   ]
  },
  {
   "cell_type": "code",
   "execution_count": null,
   "metadata": {
    "collapsed": false
   },
   "outputs": [],
   "source": [
    "affine_strategy(60.2053)"
   ]
  },
  {
   "cell_type": "code",
   "execution_count": null,
   "metadata": {
    "collapsed": false
   },
   "outputs": [],
   "source": [
    "affine_strategy(60.2051)"
   ]
  },
  {
   "cell_type": "code",
   "execution_count": null,
   "metadata": {
    "collapsed": false
   },
   "outputs": [],
   "source": [
    "# solve the problem where the initial fund equals to \n",
    "x_cash_affine, x_cp_affine, x_cre_affine, X_Cash_affine, X_Cp_affine, X_Cre_affine = affine_strategy(70.3, True)"
   ]
  },
  {
   "cell_type": "code",
   "execution_count": null,
   "metadata": {
    "collapsed": false
   },
   "outputs": [],
   "source": [
    "x_cash_affine.round(4)"
   ]
  },
  {
   "cell_type": "code",
   "execution_count": null,
   "metadata": {
    "collapsed": false
   },
   "outputs": [],
   "source": [
    "x_cp_affine.round(4)"
   ]
  },
  {
   "cell_type": "code",
   "execution_count": null,
   "metadata": {
    "collapsed": false
   },
   "outputs": [],
   "source": [
    "x_cre_affine.round(4)"
   ]
  },
  {
   "cell_type": "code",
   "execution_count": null,
   "metadata": {
    "collapsed": false
   },
   "outputs": [],
   "source": [
    "X_Cash_affine.round(3)"
   ]
  },
  {
   "cell_type": "code",
   "execution_count": null,
   "metadata": {
    "collapsed": false
   },
   "outputs": [],
   "source": [
    "X_Cp_affine.round(4)"
   ]
  },
  {
   "cell_type": "code",
   "execution_count": null,
   "metadata": {
    "collapsed": false
   },
   "outputs": [],
   "source": [
    "X_Cre_affine.round(4)"
   ]
  },
  {
   "cell_type": "markdown",
   "metadata": {},
   "source": [
    "As we decrease the amount of initial funds, the optimal value of excess funds to be invested $X_{cash}$ will decrease linearly. However, the optimal amount for credit line $X_{cre}$ and commercial paper $X_{cp}$ will stay 0. When the initial funds drops below 60.205 million, the problem will become infeasible."
   ]
  },
  {
   "cell_type": "markdown",
   "metadata": {},
   "source": [
    "# Relative Robust Strategy"
   ]
  },
  {
   "cell_type": "code",
   "execution_count": null,
   "metadata": {
    "collapsed": true
   },
   "outputs": [],
   "source": [
    "import itertools"
   ]
  },
  {
   "cell_type": "code",
   "execution_count": null,
   "metadata": {
    "collapsed": false
   },
   "outputs": [],
   "source": [
    "C_initial = 70.3\n",
    "LP_step_1 = []\n",
    "for element in itertools.product([-1, 1], repeat=6):\n",
    "    C_initial_array = np.array([C_initial, 0, 0, 0, 0, 0]).reshape(6, 1)\n",
    "    x_cash = Variable(6, 1)\n",
    "    x_cp = Variable(3, 1)\n",
    "    x_cre = Variable(5, 1)\n",
    "    prob = Problem(Maximize(x_cash[5]), \n",
    "               [A*vstack(x_cash, x_cp, x_cre) + C_initial_array >= \\\n",
    "                b_hat + B.dot(np.asarray(element)),\n",
    "                x_cre <= 1, x_cre >=0, x_cp >= 0, x_cash >= 0])\n",
    "    prob.solve()\n",
    "    LP_step_1 += [x_cash.value[5]]"
   ]
  },
  {
   "cell_type": "code",
   "execution_count": null,
   "metadata": {
    "collapsed": false
   },
   "outputs": [],
   "source": [
    "max_LP_step_1 = max(LP_step_1)"
   ]
  },
  {
   "cell_type": "code",
   "execution_count": null,
   "metadata": {
    "collapsed": false
   },
   "outputs": [],
   "source": [
    "x_cash = Variable(6, 1)\n",
    "x_cp = Variable(3, 1)\n",
    "x_cre = Variable(5, 1)\n",
    "gamma = Variable(1)\n",
    "prob = Problem(Minimize(gamma), \n",
    "               [A*vstack(x_cash, x_cp, x_cre) + C_initial_array >= \\\n",
    "                b_hat + abs(B)*np.ones(6).T,\n",
    "                x_cre <= 1, x_cre >=0, x_cp >= 0, x_cash >= 0,\n",
    "                gamma >= -1*x_cash[5] + max_LP_step_1])\n",
    "prob.solve()"
   ]
  },
  {
   "cell_type": "code",
   "execution_count": null,
   "metadata": {
    "collapsed": true
   },
   "outputs": [],
   "source": [
    "x_cash_relative_robust = x_cash.value\n",
    "x_cp_relative_robust = x_cp.value\n",
    "x_cre_relative_robust = x_cre.value"
   ]
  },
  {
   "cell_type": "code",
   "execution_count": null,
   "metadata": {
    "collapsed": false
   },
   "outputs": [],
   "source": [
    "print(x_cash.value.round(4))\n",
    "print(x_cp.value.round(4))\n",
    "print(x_cre.value.round(4))"
   ]
  },
  {
   "cell_type": "markdown",
   "metadata": {},
   "source": [
    "# 3 Evaluation Metrics"
   ]
  },
  {
   "cell_type": "code",
   "execution_count": null,
   "metadata": {
    "collapsed": false
   },
   "outputs": [],
   "source": [
    "def test(test):    \n",
    "    C_initial = 70.3\n",
    "    C_initial_array = np.array([C_initial, 0, 0, 0, 0, 0]).reshape(6, 1)\n",
    "    x_cash = Variable(6, 1)\n",
    "    x_cp = Variable(3, 1)\n",
    "    x_cre = Variable(5, 1)\n",
    "    prob = Problem(Maximize(x_cash[5]), \n",
    "               [A*vstack(x_cash, x_cp, x_cre) + C_initial_array >= test,\n",
    "                x_cre <= 1, x_cre >=0, x_cp >= 0, x_cash >= 0])\n",
    "    prob.solve()\n",
    "    return np.concatenate([np.array(x_cash.value).flatten(), \n",
    "                           np.array(x_cp.value).flatten(), \n",
    "                           np.array(x_cre.value).flatten()])\n",
    "\n",
    "def is_cover(x_cash, x_cp, x_cre, test_data):\n",
    "    C_initial = 70.3\n",
    "    C_initial_array = np.array([C_initial, 0, 0, 0, 0, 0])\n",
    "    return A.dot(np.concatenate([np.asarray(x_cash).flatten(), \n",
    "                                 np.asarray(x_cp).flatten(), \n",
    "                                 np.asarray(x_cre).flatten(), ])) + \\\n",
    "            C_initial_array >= test_data\n",
    "    \n",
    "def calculate_u(b_hat, B, test_data):\n",
    "    return np.linalg.inv(B).dot(test_data - b_hat)\n",
    "\n",
    "def calculate_decision_affine(test_data):\n",
    "    u = calculate_u(b_hat, B, test_data)\n",
    "    x_cash_affine_decision = x_cash_affine + X_Cash_affine.dot(u)\n",
    "    x_cp_affine_decision = x_cp_affine + X_Cp_affine.dot(u)\n",
    "    x_cre_affine_decision = x_cre_affine + X_Cre_affine.dot(u)\n",
    "    return x_cash_affine_decision, x_cp_affine_decision, x_cre_affine_decision"
   ]
  },
  {
   "cell_type": "code",
   "execution_count": null,
   "metadata": {
    "collapsed": false
   },
   "outputs": [],
   "source": [
    "optimal = test(test_data)[5]\n",
    "optimal"
   ]
  },
  {
   "cell_type": "markdown",
   "metadata": {},
   "source": [
    "## naive strategy"
   ]
  },
  {
   "cell_type": "code",
   "execution_count": null,
   "metadata": {
    "collapsed": false
   },
   "outputs": [],
   "source": [
    "print(\"whether the strategy will cover the required liability in the test data:\")\n",
    "print(is_cover(x_cash_naive, x_cp_naive, x_cre_naive, test_data))\n",
    "print(\"regret:\")\n",
    "regret_naive = optimal - x_cash_naive[5]\n",
    "print(regret_naive)"
   ]
  },
  {
   "cell_type": "markdown",
   "metadata": {},
   "source": [
    "## robust strategy"
   ]
  },
  {
   "cell_type": "code",
   "execution_count": null,
   "metadata": {
    "collapsed": false
   },
   "outputs": [],
   "source": [
    "print(\"whether the strategy will cover the required liability in the test data:\")\n",
    "print(is_cover(x_cash_robust, x_cp_robust, x_cre_robust, test_data))\n",
    "print(\"regret:\")\n",
    "regret_robust = optimal - x_cash_robust[5]\n",
    "print(regret_robust)"
   ]
  },
  {
   "cell_type": "markdown",
   "metadata": {},
   "source": [
    "## affine strategy"
   ]
  },
  {
   "cell_type": "code",
   "execution_count": null,
   "metadata": {
    "collapsed": false
   },
   "outputs": [],
   "source": [
    "# calculate the trategy\n",
    "x_cash_affine_decision, x_cp_affine_decision, x_cre_affine_decision = calculate_decision_affine(test_data)\n",
    "print(\"whether the strategy will cover the required liability in the test data:\")\n",
    "print(is_cover(x_cash_affine_decision, x_cp_affine_decision, \n",
    "         x_cre_affine_decision, test_data))\n",
    "print(\"regret:\")\n",
    "regret_affine = optimal - x_cash_affine_decision[5]\n",
    "print(regret_affine)"
   ]
  },
  {
   "cell_type": "markdown",
   "metadata": {},
   "source": [
    "## relative robust strategy"
   ]
  },
  {
   "cell_type": "code",
   "execution_count": null,
   "metadata": {
    "collapsed": false
   },
   "outputs": [],
   "source": [
    "print(\"whether the strategy will cover the required liability in the test data:\")\n",
    "print(is_cover(x_cash_relative_robust, x_cp_relative_robust, \n",
    "         x_cre_relative_robust, test_data))\n",
    "print(\"regret:\")\n",
    "regret_relative_robust = optimal - x_cash_relative_robust[5]\n",
    "print(regret_relative_robust)"
   ]
  },
  {
   "cell_type": "markdown",
   "metadata": {},
   "source": [
    "## more test data"
   ]
  },
  {
   "cell_type": "code",
   "execution_count": null,
   "metadata": {
    "collapsed": true
   },
   "outputs": [],
   "source": [
    "results = []\n",
    "is_cover_naive = []\n",
    "is_cover_robust = []\n",
    "is_cover_affine = []\n",
    "is_cover_relative_robust = []\n",
    "regret_naive = []\n",
    "regret_robust = []\n",
    "regret_affine = []\n",
    "regret_relative_robust = []\n",
    "for i in more_test_data:\n",
    "    results += [test(i)[5]]\n",
    "    optimal = test(i)[5]\n",
    "    x_cash_affine_decision, x_cp_affine_decision, x_cre_affine_decision = calculate_decision_affine(i)\n",
    "    \n",
    "    is_cover_naive += [np.mean(is_cover(x_cash_naive, x_cp_naive, \n",
    "                                x_cre_naive, i))]\n",
    "    is_cover_robust += [np.mean(is_cover(x_cash_robust, x_cp_robust, x_cre_robust, test_data))]\n",
    "    is_cover_affine += [np.mean(is_cover(x_cash_affine_decision, x_cp_affine_decision, \n",
    "                               x_cre_affine_decision, test_data))]\n",
    "    is_cover_relative_robust += [np.mean(is_cover(x_cash_relative_robust, \n",
    "                                          x_cp_relative_robust, \n",
    "                                          x_cre_relative_robust, i))]\n",
    "    regret_naive += [optimal-x_cash_naive[5]]\n",
    "    regret_robust += [optimal-x_cash_robust[5]]\n",
    "    regret_affine += [optimal-x_cash_affine_decision[5]]\n",
    "    regret_relative_robust += [optimal-x_cash_relative_robust[5][0, 0]]"
   ]
  },
  {
   "cell_type": "code",
   "execution_count": null,
   "metadata": {
    "collapsed": false
   },
   "outputs": [],
   "source": [
    "print(\"naive strategy\")\n",
    "unique, counts = np.unique(is_cover_naive, return_counts=True)\n",
    "print(np.asarray((unique, counts)).T)\n",
    "print(\"robust strategy\")\n",
    "unique, counts = np.unique(is_cover_robust, return_counts=True)\n",
    "print(np.asarray((unique, counts)).T)\n",
    "print(\"affine strategy\")\n",
    "unique, counts = np.unique(is_cover_affine, return_counts=True)\n",
    "print(np.asarray((unique, counts)).T)\n",
    "print(\"robust strategy\")\n",
    "unique, counts = np.unique(is_cover_relative_robust, return_counts=True)\n",
    "print(np.asarray((unique, counts)).T)"
   ]
  },
  {
   "cell_type": "markdown",
   "metadata": {},
   "source": [
    "Fromt the above results, XXXXXXXXXX XXXXX XXXXXXXXXXXXXXXXXXXXXXXXXXX XXXXXXXXXXXXXXXXXXXXXXXXXXXXXXXXXXXX XXX XXXXXXXXXXXXXXXXXX XXXXXXXXX XXXXXXXXXXXXXXXXXXXXXXXXX XXXXXX XXXXXX XXXXXXXXXX XXXXXXXXXXXXXXXXXXXXXXXXXXXXXX XXXXX XXXX XXXXXXXXXX XXXX XXXXXXXXXXXX XXXXXXXXXXXXXXXXXXXX XXXXXXXXXXXXXXXXXXXXXXXXXXXXX XXXXXXXXXXXX XXXXXXXXXXX XXXXX XXXX XXXX XXXXXXXXXXXXXXXXXXXXX XXXXXXXXXXXXX XXXXXXXXXXXXXXXXXXXXXXXXX XXXX XXXXXXXXXXXXX XXXXXXXXXXXXX XXXXXXXXXXXX XXXX XXX XXXXXXXXXXXXXXXXX XXXXX XXX XXXXXXXXXX XXXXXXX XXXXXXXXXXXXXXXXXXXXXXXXXXXXX XXXXXXXX XXXXXXX XXXX XXXX XXXXXXXXX XXXX XXXXXX XXXXXXXXXXXXXXXXXXXXXXXXXX XXXXXXXXXXXX XXXXXXXXXXXXXXXXXXXXXXXXXXXX XXXXXXXX XXXXXXXXXX XXXX XXXX XXX XX XXX XX XXXXXXXXXXXXX XXXXXXXXX XXXXXXXXXXXX XXXXXXXXX XXXX XXXXXXXXXXXXXXXXXXXXXXXXX XXXXXXXXXXXX XXX XXX XXX XXXXX XXXXXX XXXXX XXXXXXXXXXX XXXXXXXXXXXXXXXXXXXXXXXX XXXXXXXXXXX XXXXXXXXXXXX XXXXXXXXXXXXXXXXX XXXXXXXXXXXX XXX XXXXXX"
   ]
  },
  {
   "cell_type": "code",
   "execution_count": null,
   "metadata": {
    "collapsed": false
   },
   "outputs": [],
   "source": [
    "plt.figure(figsize=(7,3.5))\n",
    "plt.hist([regret_naive, regret_robust, \n",
    "          regret_affine, regret_relative_robust], \n",
    "         20, histtype='bar', \n",
    "         label=[\"Naive\", \"Robust\", \"Affine\", \"Relative robust\"])\n",
    "# plt.title('Regret histogram of more test data')\n",
    "plt.legend(loc=\"upper left\", fontsize = 'small', framealpha=0.5)\n",
    "plt.ylim(0, 9)\n",
    "plt.savefig(\"report/regret.png\")"
   ]
  },
  {
   "cell_type": "markdown",
   "metadata": {},
   "source": [
    "# 3 Initial Asset and feasibility Analysis"
   ]
  },
  {
   "cell_type": "code",
   "execution_count": null,
   "metadata": {
    "collapsed": true
   },
   "outputs": [],
   "source": []
  },
  {
   "cell_type": "code",
   "execution_count": null,
   "metadata": {
    "collapsed": true
   },
   "outputs": [],
   "source": []
  },
  {
   "cell_type": "code",
   "execution_count": null,
   "metadata": {
    "collapsed": true
   },
   "outputs": [],
   "source": []
  },
  {
   "cell_type": "code",
   "execution_count": null,
   "metadata": {
    "collapsed": true
   },
   "outputs": [],
   "source": []
  }
 ],
 "metadata": {
  "kernelspec": {
   "display_name": "Python 3",
   "language": "python",
   "name": "python3"
  },
  "language_info": {
   "codemirror_mode": {
    "name": "ipython",
    "version": 3
   },
   "file_extension": ".py",
   "mimetype": "text/x-python",
   "name": "python",
   "nbconvert_exporter": "python",
   "pygments_lexer": "ipython3",
   "version": "3.5.1"
  }
 },
 "nbformat": 4,
 "nbformat_minor": 1
}
