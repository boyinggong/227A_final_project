{
 "cells": [
  {
   "cell_type": "code",
   "execution_count": 1,
   "metadata": {
    "collapsed": true
   },
   "outputs": [],
   "source": [
    "import numpy as np\n",
    "from cvxpy import *\n",
    "import matplotlib.pyplot as plt\n",
    "plt.style.use('ggplot')\n",
    "%matplotlib inline"
   ]
  },
  {
   "cell_type": "code",
   "execution_count": 2,
   "metadata": {
    "collapsed": true
   },
   "outputs": [],
   "source": [
    "A = np.array([[  -1.,     0,     0,     0,     0,  0,    1.,     0,     0,    1.,     0,     0,     0,     0],\n",
    "              [1.003,    -1,     0,     0,     0,  0,     0,    1.,     0, -1.01,    1.,     0,     0,     0],\n",
    "              [    0, 1.003,    -1,     0,     0,  0,     0,     0,    1.,     0, -1.01,    1.,     0,     0],\n",
    "              [    0,     0, 1.003,    -1,     0,  0, -1.02,     0,     0,     0,     0, -1.01,    1.,     0],\n",
    "              [    0,     0,     0, 1.003,    -1,  0,     0, -1.02,     0,     0,     0,     0, -1.01,    1.],\n",
    "              [    0,     0,     0,     0, 1.003, -1,     0,     0, -1.02,     0,     0,     0,     0, -1.01]])"
   ]
  },
  {
   "cell_type": "markdown",
   "metadata": {},
   "source": [
    "## Naive Strategy"
   ]
  },
  {
   "cell_type": "code",
   "execution_count": 3,
   "metadata": {
    "collapsed": false
   },
   "outputs": [
    {
     "data": {
      "text/plain": [
       "92.49694914597907"
      ]
     },
     "execution_count": 3,
     "metadata": {},
     "output_type": "execute_result"
    }
   ],
   "source": [
    "b_hat = np.array([150, 100, -200, 200, -50, -300])\n",
    "x_cash = Variable(6)\n",
    "x_cp = Variable(3)\n",
    "x_cre = Variable(5)\n",
    "prob = Problem(Maximize(x_cash[5]), \n",
    "               [A[:, :6]*x_cash + A[:, 6:9]*x_cp + \\\n",
    "                A[:, 9:]*x_cre >= \\\n",
    "                b_hat,\n",
    "                x_cre <= 100, x_cre >=0, x_cp >= 0, x_cash >= 0])\n",
    "prob.solve()"
   ]
  },
  {
   "cell_type": "code",
   "execution_count": 4,
   "metadata": {
    "collapsed": false
   },
   "outputs": [
    {
     "name": "stdout",
     "output_type": "stream",
     "text": [
      "[[   0.    ]\n",
      " [   0.    ]\n",
      " [ 351.9442]\n",
      " [   0.    ]\n",
      " [   0.    ]\n",
      " [  92.4969]]\n"
     ]
    }
   ],
   "source": [
    "print(x_cash.value.round(4))"
   ]
  },
  {
   "cell_type": "code",
   "execution_count": 5,
   "metadata": {
    "collapsed": false
   },
   "outputs": [
    {
     "name": "stdout",
     "output_type": "stream",
     "text": [
      "[[ 150.    ]\n",
      " [  74.2977]\n",
      " [ 177.9035]]\n"
     ]
    }
   ],
   "source": [
    "print(x_cp.value.round(4))"
   ]
  },
  {
   "cell_type": "code",
   "execution_count": 6,
   "metadata": {
    "collapsed": false
   },
   "outputs": [
    {
     "name": "stdout",
     "output_type": "stream",
     "text": [
      "[[  0.    ]\n",
      " [ 25.7023]\n",
      " [  0.    ]\n",
      " [  0.    ]\n",
      " [ 25.7836]]\n"
     ]
    }
   ],
   "source": [
    "print(x_cre.value.round(4))"
   ]
  },
  {
   "cell_type": "markdown",
   "metadata": {},
   "source": [
    "## Robust Strategy"
   ]
  },
  {
   "cell_type": "code",
   "execution_count": 7,
   "metadata": {
    "collapsed": false
   },
   "outputs": [
    {
     "data": {
      "text/plain": [
       "14.288569470597606"
      ]
     },
     "execution_count": 7,
     "metadata": {},
     "output_type": "execute_result"
    }
   ],
   "source": [
    "# robust problem in the livebook\n",
    "b_hat = np.array([150, 100, -200, 200, -50, -300])\n",
    "B=np.diag(b_hat).dot(np.array([[.06,   0,   0,   0,   0,   0],\n",
    "                            [.02, .06,   0,   0,   0,   0],\n",
    "                            [  0, .02, .06,   0,   0,   0],\n",
    "                            [  0,   0, .02, .06,   0,   0],\n",
    "                            [  0,   0,   0, .02, .06,   0],\n",
    "                            [  0,   0,   0,   0, .02, .06]]))\n",
    "x_cash = Variable(6, 1)\n",
    "x_cp = Variable(3, 1)\n",
    "x_cre = Variable(5, 1)\n",
    "prob = Problem(Maximize(x_cash[5]), \n",
    "               [A*vstack(x_cash,x_cp,x_cre) >= \\\n",
    "                b_hat + abs(B)*np.ones(6).T,\n",
    "                x_cre <= 100, x_cre >=0, x_cp >= 0, x_cash >= 0])\n",
    "prob.solve()"
   ]
  },
  {
   "cell_type": "code",
   "execution_count": 8,
   "metadata": {
    "collapsed": false
   },
   "outputs": [
    {
     "name": "stdout",
     "output_type": "stream",
     "text": [
      "[[   0.    ]\n",
      " [   0.    ]\n",
      " [ 377.0489]\n",
      " [   0.    ]\n",
      " [   0.    ]\n",
      " [  14.2886]]\n"
     ]
    }
   ],
   "source": [
    "print(x_cash.value.round(4))"
   ]
  },
  {
   "cell_type": "code",
   "execution_count": 9,
   "metadata": {
    "collapsed": false
   },
   "outputs": [
    {
     "name": "stdout",
     "output_type": "stream",
     "text": [
      "[[ 159.    ]\n",
      " [  71.6477]\n",
      " [ 229.7647]]\n"
     ]
    }
   ],
   "source": [
    "print(x_cp.value.round(4))"
   ]
  },
  {
   "cell_type": "code",
   "execution_count": 10,
   "metadata": {
    "collapsed": false
   },
   "outputs": [
    {
     "name": "stdout",
     "output_type": "stream",
     "text": [
      "[[  0.    ]\n",
      " [ 36.3523]\n",
      " [  0.    ]\n",
      " [  0.    ]\n",
      " [ 27.0807]]\n"
     ]
    }
   ],
   "source": [
    "print(x_cre.value.round(4))"
   ]
  },
  {
   "cell_type": "markdown",
   "metadata": {},
   "source": [
    "## Affine Strategy"
   ]
  },
  {
   "cell_type": "code",
   "execution_count": 11,
   "metadata": {
    "collapsed": false
   },
   "outputs": [
    {
     "data": {
      "text/plain": [
       "14.288569491253206"
      ]
     },
     "execution_count": 11,
     "metadata": {},
     "output_type": "execute_result"
    }
   ],
   "source": [
    "# linear problem in the livebook\n",
    "b_hat = np.array([150, 100, -200, 200, -50, -300])\n",
    "B=np.diag(b_hat).dot(np.array([[.06,   0,   0,   0,   0,   0],\n",
    "                               [.02, .06,   0,   0,   0,   0],\n",
    "                               [  0, .02, .06,   0,   0,   0],\n",
    "                               [  0,   0, .02, .06,   0,   0],\n",
    "                               [  0,   0,   0, .02, .06,   0],\n",
    "                               [  0,   0,   0,   0, .02, .06]]))\n",
    "x_cash = Variable(6, 1)\n",
    "x_cp = Variable(3, 1)\n",
    "x_cre = Variable(5, 1)\n",
    "X_Cash = Variable(6, 6)\n",
    "X_Cp = Variable(3, 6)\n",
    "X_Cre = Variable(5, 6)\n",
    "\n",
    "constraints = [A*vstack(x_cash,x_cp,x_cre) >= b_hat + \\\n",
    "               sum_entries(abs(B - A*vstack(X_Cash,X_Cp,X_Cre)), \n",
    "                           axis=1),\n",
    "               vstack(x_cash,x_cp,x_cre) >= \\\n",
    "               sum_entries(abs(vstack(X_Cash,X_Cp,X_Cre)), axis=1),\n",
    "                x_cre + sum_entries(abs(X_Cre), axis=1) <= 100]\n",
    "for i in range(6):\n",
    "    constraints += [X_Cash[i, i:] == 0]\n",
    "for i in range(3):\n",
    "    constraints += [X_Cp[i, i:] == 0]\n",
    "for i in range(5):\n",
    "    constraints += [X_Cre[i, i:] == 0]\n",
    "\n",
    "prob = Problem(Maximize(x_cash[5]-sum(abs(X_Cash[-1, :]))), \n",
    "               constraints)\n",
    "prob.solve()"
   ]
  },
  {
   "cell_type": "code",
   "execution_count": 12,
   "metadata": {
    "collapsed": false
   },
   "outputs": [
    {
     "name": "stdout",
     "output_type": "stream",
     "text": [
      "[[   0.    ]\n",
      " [   2.539 ]\n",
      " [ 380.0183]\n",
      " [  11.0139]\n",
      " [   9.2145]\n",
      " [  19.7831]]\n"
     ]
    }
   ],
   "source": [
    "print(x_cash.value.round(4))"
   ]
  },
  {
   "cell_type": "code",
   "execution_count": 13,
   "metadata": {
    "collapsed": false
   },
   "outputs": [
    {
     "name": "stdout",
     "output_type": "stream",
     "text": [
      "[[ 159.    ]\n",
      " [  74.2119]\n",
      " [ 220.5392]]\n"
     ]
    }
   ],
   "source": [
    "print(x_cp.value.round(4))"
   ]
  },
  {
   "cell_type": "code",
   "execution_count": 14,
   "metadata": {
    "collapsed": false
   },
   "outputs": [
    {
     "name": "stdout",
     "output_type": "stream",
     "text": [
      "[[  0.    ]\n",
      " [ 34.6441]\n",
      " [  4.9162]\n",
      " [ 11.2591]\n",
      " [ 40.6723]]\n"
     ]
    }
   ],
   "source": [
    "print(x_cre.value.round(4))"
   ]
  },
  {
   "cell_type": "code",
   "execution_count": 15,
   "metadata": {
    "collapsed": false
   },
   "outputs": [
    {
     "name": "stdout",
     "output_type": "stream",
     "text": [
      "[[ 0.      0.     -0.     -0.     -0.     -0.    ]\n",
      " [-2.539  -0.     -0.      0.     -0.     -0.    ]\n",
      " [-0.5575  2.412   0.      0.     -0.      0.    ]\n",
      " [-2.4966  3.0407 -5.4767 -0.     -0.     -0.    ]\n",
      " [-1.9932  1.8879 -2.9699  2.3635  0.     -0.    ]\n",
      " [-0.3188  0.9143 -1.0454  0.316   2.9001  0.    ]]\n"
     ]
    }
   ],
   "source": [
    "print(X_Cash.value.round(4))"
   ]
  },
  {
   "cell_type": "code",
   "execution_count": 16,
   "metadata": {
    "collapsed": false
   },
   "outputs": [
    {
     "name": "stdout",
     "output_type": "stream",
     "text": [
      "[[-0.      0.     -0.     -0.      0.      0.    ]\n",
      " [ 1.7868  0.     -0.      0.      0.      0.    ]\n",
      " [ 1.4496 -3.3814 -0.      0.      0.      0.    ]]\n"
     ]
    }
   ],
   "source": [
    "print(X_Cp.value.round(4))"
   ]
  },
  {
   "cell_type": "code",
   "execution_count": 17,
   "metadata": {
    "collapsed": false
   },
   "outputs": [
    {
     "name": "stdout",
     "output_type": "stream",
     "text": [
      "[[-0.     -0.      0.      0.      0.      0.    ]\n",
      " [-2.6428  0.      0.     -0.      0.      0.    ]\n",
      " [-2.4282  2.488  -0.     -0.      0.     -0.    ]\n",
      " [-4.7544  3.9545 -2.5501  0.      0.      0.    ]\n",
      " [-2.8159  3.6097 -1.0086  1.7194 -0.      0.    ]]\n"
     ]
    }
   ],
   "source": [
    "print(X_Cre.value.round(4))"
   ]
  }
 ],
 "metadata": {
  "kernelspec": {
   "display_name": "Python 3",
   "language": "python",
   "name": "python3"
  },
  "language_info": {
   "codemirror_mode": {
    "name": "ipython",
    "version": 3
   },
   "file_extension": ".py",
   "mimetype": "text/x-python",
   "name": "python",
   "nbconvert_exporter": "python",
   "pygments_lexer": "ipython3",
   "version": "3.5.1"
  }
 },
 "nbformat": 4,
 "nbformat_minor": 1
}
